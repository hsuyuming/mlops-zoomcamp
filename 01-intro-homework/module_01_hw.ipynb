{
 "cells": [
  {
   "cell_type": "code",
   "execution_count": 148,
   "id": "a62af6c7-0180-4a2e-9557-68529344c4e1",
   "metadata": {},
   "outputs": [],
   "source": [
    "import pandas as pd\n",
    "from pathlib import Path\n",
    "import seaborn as sns\n",
    "import matplotlib.pyplot as plt\n",
    "from sklearn.feature_extraction import DictVectorizer\n",
    "from sklearn.linear_model import LinearRegression\n",
    "from sklearn.metrics import mean_squared_error"
   ]
  },
  {
   "cell_type": "code",
   "execution_count": 162,
   "id": "89587abf-1d21-4330-ad2f-d71485072c55",
   "metadata": {},
   "outputs": [
    {
     "name": "stdout",
     "output_type": "stream",
     "text": [
      "Answer1:1154112\n",
      "Answer2:19.1672240937939\n"
     ]
    },
    {
     "name": "stderr",
     "output_type": "stream",
     "text": [
      "/opt/conda/lib/python3.7/site-packages/seaborn/distributions.py:2619: FutureWarning: `distplot` is a deprecated function and will be removed in a future version. Please adapt your code to use either `displot` (a figure-level function with similar flexibility) or `histplot` (an axes-level function for histograms).\n",
      "  warnings.warn(msg, FutureWarning)\n"
     ]
    },
    {
     "name": "stdout",
     "output_type": "stream",
     "text": [
      "Ansert3: diff_columns:44286\n"
     ]
    },
    {
     "name": "stderr",
     "output_type": "stream",
     "text": [
      "/opt/conda/lib/python3.7/site-packages/seaborn/distributions.py:2619: FutureWarning: `distplot` is a deprecated function and will be removed in a future version. Please adapt your code to use either `displot` (a figure-level function with similar flexibility) or `histplot` (an axes-level function for histograms).\n",
      "  warnings.warn(msg, FutureWarning)\n"
     ]
    },
    {
     "name": "stdout",
     "output_type": "stream",
     "text": [
      "Ansert4: pickup_location_id_na_rate:83.52732770722618\n"
     ]
    },
    {
     "name": "stderr",
     "output_type": "stream",
     "text": [
      "/opt/conda/lib/python3.7/site-packages/ipykernel_launcher.py:27: SettingWithCopyWarning: \n",
      "A value is trying to be set on a copy of a slice from a DataFrame.\n",
      "Try using .loc[row_indexer,col_indexer] = value instead\n",
      "\n",
      "See the caveats in the documentation: https://pandas.pydata.org/pandas-docs/stable/user_guide/indexing.html#returning-a-view-versus-a-copy\n"
     ]
    },
    {
     "name": "stdout",
     "output_type": "stream",
     "text": [
      "Answer5: dimensionality of this matrix: 525\n",
      "Answer6: RMSE on train: 10.528519107210744\n"
     ]
    },
    {
     "data": {
      "image/png": "[encoded data removed]",
      "text/plain": [
       "<Figure size 432x288 with 1 Axes>"
      ]
     },
     "metadata": {
      "needs_background": "light"
     },
     "output_type": "display_data"
    }
   ],
   "source": [
    "def parquet_to_df(file_path: Path):\n",
    "    return pd.read_parquet(file_path)\n",
    "\n",
    "def find_df_columns(df: pd.core.frame.DataFrame):\n",
    "    return df.shape[0]\n",
    "\n",
    "def generate_duration_by_mins(dropOff_datetime: pd.core.series.Series, pickup_datetime: pd.core.series.Series):\n",
    "    duration = (dropOff_datetime - pickup_datetime).apply(lambda _ : _.total_seconds())\n",
    "    return duration / 60\n",
    "\n",
    "def calculate_duration_avg(duration: pd.core.series.Series):\n",
    "    return duration.mean()\n",
    "\n",
    "def clean_duration(df, start_mins, end_mins):\n",
    "    return df[\n",
    "        (df.duration >= start_mins) &\n",
    "        (df.duration <= end_mins)\n",
    "    ]\n",
    "    \n",
    "def draw_column_distribution(column: pd.core.series.Series):\n",
    "    sns.distplot(column)\n",
    "\n",
    "def calculate_column_NA_rate(column: pd.core.series.Series):\n",
    "    return column.isnull().mean() * 100\n",
    "\n",
    "def filled_na_with_column(df, column, value):\n",
    "    df[column] = df[column].fillna(value)\n",
    "    return df\n",
    "    \n",
    "def transform_columns_type_to_str(df, columns):\n",
    "    return df[columns].astype(str)\n",
    "\n",
    "def df_to_dict(df):\n",
    "    return df.to_dict(orient='records')\n",
    "\n",
    "def one_hot_encoding_transform(dicts):\n",
    "    dv = DictVectorizer()\n",
    "    return (dv, dv.fit_transform(dicts))\n",
    "\n",
    "def get_label_value(df, label):\n",
    "    return df[label].values\n",
    "\n",
    "def train_model(training_feature, training_label, linear_model):\n",
    "    lr = linear_model()\n",
    "    lr.fit(training_feature, training_label)\n",
    "    return lr\n",
    "\n",
    "\n",
    "\n",
    "file_path=Path(\"./data/fhv_tripdata_2021-01.parquet\")\n",
    "df = parquet_to_df(file_path)\n",
    "df_columns = find_df_columns(df)\n",
    "print(f\"Answer1:{df_columns}\")\n",
    "df[\"duration\"] = generate_duration_by_mins(df[\"dropOff_datetime\"], df[\"pickup_datetime\"])\n",
    "duration_avg = calculate_duration_avg(df[\"duration\"])\n",
    "print(f\"Answer2:{duration_avg}\")\n",
    "draw_column_distribution(df[\"duration\"])\n",
    "new_df = clean_duration(df, 1, 60)\n",
    "new_df_columns = find_df_columns(new_df)\n",
    "diff_columns = df_columns - new_df_columns \n",
    "print(f\"Ansert3: diff_columns:{diff_columns}\")\n",
    "draw_column_distribution(new_df[\"duration\"])\n",
    "pickup_location_id_na_rate = calculate_column_NA_rate(new_df[\"PUlocationID\"])\n",
    "print(f\"Ansert4: pickup_location_id_na_rate:{pickup_location_id_na_rate}\")\n",
    "new_df = filled_na_with_column(new_df, \"PUlocationID\", -1)\n",
    "new_df = filled_na_with_column(new_df, \"DOlocationID\", -1)\n",
    "categorical = ['PUlocationID', 'DOlocationID']\n",
    "train_dicts = df_to_dict(transform_columns_type_to_str(new_df, categorical))\n",
    "dv, x_train = one_hot_encoding_transform(train_dicts)\n",
    "print(f\"Answer5: dimensionality of this matrix: {len(dv.feature_names_)}\")\n",
    "label =  'duration'\n",
    "y_train = new_df[label].values\n",
    "model = train_model(x_train, y_train, LinearRegression)\n",
    "y_pred = model.predict(x_train)\n",
    "train_rsme = mean_squared_error(y_train, y_pred, squared=False)\n",
    "print(f\"Answer6: RMSE on train: {train_rsme}\")\n"
   ]
  },
  {
   "cell_type": "code",
   "execution_count": 154,
   "id": "f39b9f80-5da0-41f2-ad9f-bf95b881f776",
   "metadata": {},
   "outputs": [],
   "source": [
    "sns.distplot(y_pred, label='prediction')\n",
    "sns.distplot(y_train, label='actual')\n",
    "plt.legend()"
   ]
  },
  {
   "cell_type": "code",
   "execution_count": 190,
   "id": "05671776-2714-474f-af06-da78d21bd416",
   "metadata": {},
   "outputs": [
    {
     "name": "stderr",
     "output_type": "stream",
     "text": [
      "/opt/conda/lib/python3.7/site-packages/ipykernel_launcher.py:27: SettingWithCopyWarning: \n",
      "A value is trying to be set on a copy of a slice from a DataFrame.\n",
      "Try using .loc[row_indexer,col_indexer] = value instead\n",
      "\n",
      "See the caveats in the documentation: https://pandas.pydata.org/pandas-docs/stable/user_guide/indexing.html#returning-a-view-versus-a-copy\n"
     ]
    },
    {
     "name": "stdout",
     "output_type": "stream",
     "text": [
      "Answer7: RMSE on train: 11.014253835656056\n"
     ]
    }
   ],
   "source": [
    "file_path=Path(\"./data/fhv_tripdata_2021-02.parquet\")\n",
    "df_02 = parquet_to_df(file_path)\n",
    "df_02[\"duration\"] = generate_duration_by_mins(df_02[\"dropOff_datetime\"], df_02[\"pickup_datetime\"])\n",
    "new_df_02 = clean_duration(df_02, 1, 60)\n",
    "new_df_02 = filled_na_with_column(new_df_02, \"PUlocationID\", -1)\n",
    "new_df_02 = filled_na_with_column(new_df_02, \"DOlocationID\", -1)\n",
    "new_df_02 = new_df_02[new_df_02[\"DOlocationID\"] != 110]\n",
    "categorical = ['PUlocationID', 'DOlocationID']\n",
    "label =  'duration'\n",
    "y_train = new_df_02[label].values\n",
    "train_dicts_02 = df_to_dict(transform_columns_type_to_str(new_df_02, categorical))\n",
    "dv_02, x_train_02 = one_hot_encoding_transform(train_dicts_02)\n",
    "y_pred_02 = model.predict(x_train_02)\n",
    "evaluate_rsme = mean_squared_error(y_train, y_pred_02, squared=False)\n",
    "print(f\"Answer7: RMSE on train: {evaluate_rsme}\")"
   ]
  },
  {
   "cell_type": "code",
   "execution_count": null,
   "id": "df30ae8a-9fb2-42c2-8ed4-92bdb126babb",
   "metadata": {},
   "outputs": [],
   "source": []
  }
 ],
 "metadata": {
  "environment": {
   "kernel": "python3",
   "name": "tf2-gpu.2-8.m91",
   "type": "gcloud",
   "uri": "gcr.io/deeplearning-platform-release/tf2-gpu.2-8:m91"
  },
  "kernelspec": {
   "display_name": "Python 3",
   "language": "python",
   "name": "python3"
  },
  "language_info": {
   "codemirror_mode": {
    "name": "ipython",
    "version": 3
   },
   "file_extension": ".py",
   "mimetype": "text/x-python",
   "name": "python",
   "nbconvert_exporter": "python",
   "pygments_lexer": "ipython3",
   "version": "3.7.12"
  }
 },
 "nbformat": 4,
 "nbformat_minor": 5
}
