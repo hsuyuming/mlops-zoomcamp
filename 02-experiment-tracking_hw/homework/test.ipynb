{
 "cells": [
  {
   "cell_type": "code",
   "execution_count": 20,
   "metadata": {},
   "outputs": [],
   "source": [
    "from mlflow.tracking import MlflowClient\n",
    "\n",
    "MLFLOW_TRACKING_URI = \"sqlite:////tmp/mlflow.db\"\n",
    "\n",
    "client = MlflowClient(tracking_uri=MLFLOW_TRACKING_URI)"
   ]
  },
  {
   "cell_type": "code",
   "execution_count": 21,
   "metadata": {},
   "outputs": [
    {
     "data": {
      "text/plain": [
       "[<Experiment: artifact_location='./mlruns/0', experiment_id='0', lifecycle_stage='active', name='Default', tags={}>,\n",
       " <Experiment: artifact_location='./mlruns/1', experiment_id='1', lifecycle_stage='active', name='homework', tags={}>,\n",
       " <Experiment: artifact_location='./mlruns/2', experiment_id='2', lifecycle_stage='active', name='random-forest-hyperopt', tags={}>,\n",
       " <Experiment: artifact_location='./mlruns/3', experiment_id='3', lifecycle_stage='active', name='my-cool-experiment', tags={}>,\n",
       " <Experiment: artifact_location='./mlruns/4', experiment_id='4', lifecycle_stage='active', name='random-forest-best-models', tags={}>]"
      ]
     },
     "execution_count": 21,
     "metadata": {},
     "output_type": "execute_result"
    }
   ],
   "source": [
    "client.list_experiments()"
   ]
  },
  {
   "cell_type": "code",
   "execution_count": 22,
   "metadata": {},
   "outputs": [
    {
     "ename": "MlflowException",
     "evalue": "Experiment(name=my-cool-experiment) already exists. Error: (raised as a result of Query-invoked autoflush; consider using a session.no_autoflush block if this flush is occurring prematurely)\n(sqlite3.IntegrityError) UNIQUE constraint failed: experiments.name\n[SQL: INSERT INTO experiments (name, artifact_location, lifecycle_stage) VALUES (?, ?, ?)]\n[parameters: ('my-cool-experiment', None, 'active')]\n(Background on this error at: https://sqlalche.me/e/14/gkpj)",
     "output_type": "error",
     "traceback": [
      "\u001b[0;31m---------------------------------------------------------------------------\u001b[0m",
      "\u001b[0;31mIntegrityError\u001b[0m                            Traceback (most recent call last)",
      "File \u001b[0;32m~/.local/share/virtualenvs/mlops-zoomcamp-62aZbzDQ/lib/python3.9/site-packages/sqlalchemy/engine/base.py:1819\u001b[0m, in \u001b[0;36mConnection._execute_context\u001b[0;34m(self, dialect, constructor, statement, parameters, execution_options, *args, **kw)\u001b[0m\n\u001b[1;32m   <a href='file:///Users/abehsu/.local/share/virtualenvs/mlops-zoomcamp-62aZbzDQ/lib/python3.9/site-packages/sqlalchemy/engine/base.py?line=1817'>1818</a>\u001b[0m     \u001b[39mif\u001b[39;00m \u001b[39mnot\u001b[39;00m evt_handled:\n\u001b[0;32m-> <a href='file:///Users/abehsu/.local/share/virtualenvs/mlops-zoomcamp-62aZbzDQ/lib/python3.9/site-packages/sqlalchemy/engine/base.py?line=1818'>1819</a>\u001b[0m         \u001b[39mself\u001b[39;49m\u001b[39m.\u001b[39;49mdialect\u001b[39m.\u001b[39;49mdo_execute(\n\u001b[1;32m   <a href='file:///Users/abehsu/.local/share/virtualenvs/mlops-zoomcamp-62aZbzDQ/lib/python3.9/site-packages/sqlalchemy/engine/base.py?line=1819'>1820</a>\u001b[0m             cursor, statement, parameters, context\n\u001b[1;32m   <a href='file:///Users/abehsu/.local/share/virtualenvs/mlops-zoomcamp-62aZbzDQ/lib/python3.9/site-packages/sqlalchemy/engine/base.py?line=1820'>1821</a>\u001b[0m         )\n\u001b[1;32m   <a href='file:///Users/abehsu/.local/share/virtualenvs/mlops-zoomcamp-62aZbzDQ/lib/python3.9/site-packages/sqlalchemy/engine/base.py?line=1822'>1823</a>\u001b[0m \u001b[39mif\u001b[39;00m \u001b[39mself\u001b[39m\u001b[39m.\u001b[39m_has_events \u001b[39mor\u001b[39;00m \u001b[39mself\u001b[39m\u001b[39m.\u001b[39mengine\u001b[39m.\u001b[39m_has_events:\n",
      "File \u001b[0;32m~/.local/share/virtualenvs/mlops-zoomcamp-62aZbzDQ/lib/python3.9/site-packages/sqlalchemy/engine/default.py:732\u001b[0m, in \u001b[0;36mDefaultDialect.do_execute\u001b[0;34m(self, cursor, statement, parameters, context)\u001b[0m\n\u001b[1;32m    <a href='file:///Users/abehsu/.local/share/virtualenvs/mlops-zoomcamp-62aZbzDQ/lib/python3.9/site-packages/sqlalchemy/engine/default.py?line=730'>731</a>\u001b[0m \u001b[39mdef\u001b[39;00m \u001b[39mdo_execute\u001b[39m(\u001b[39mself\u001b[39m, cursor, statement, parameters, context\u001b[39m=\u001b[39m\u001b[39mNone\u001b[39;00m):\n\u001b[0;32m--> <a href='file:///Users/abehsu/.local/share/virtualenvs/mlops-zoomcamp-62aZbzDQ/lib/python3.9/site-packages/sqlalchemy/engine/default.py?line=731'>732</a>\u001b[0m     cursor\u001b[39m.\u001b[39;49mexecute(statement, parameters)\n",
      "\u001b[0;31mIntegrityError\u001b[0m: UNIQUE constraint failed: experiments.name",
      "\nThe above exception was the direct cause of the following exception:\n",
      "\u001b[0;31mIntegrityError\u001b[0m                            Traceback (most recent call last)",
      "File \u001b[0;32m~/.local/share/virtualenvs/mlops-zoomcamp-62aZbzDQ/lib/python3.9/site-packages/mlflow/store/tracking/sqlalchemy_store.py:251\u001b[0m, in \u001b[0;36mSqlAlchemyStore.create_experiment\u001b[0;34m(self, name, artifact_location, tags)\u001b[0m\n\u001b[1;32m    <a href='file:///Users/abehsu/.local/share/virtualenvs/mlops-zoomcamp-62aZbzDQ/lib/python3.9/site-packages/mlflow/store/tracking/sqlalchemy_store.py?line=248'>249</a>\u001b[0m \u001b[39mif\u001b[39;00m \u001b[39mnot\u001b[39;00m artifact_location:\n\u001b[1;32m    <a href='file:///Users/abehsu/.local/share/virtualenvs/mlops-zoomcamp-62aZbzDQ/lib/python3.9/site-packages/mlflow/store/tracking/sqlalchemy_store.py?line=249'>250</a>\u001b[0m     \u001b[39m# this requires a double write. The first one to generate an autoincrement-ed ID\u001b[39;00m\n\u001b[0;32m--> <a href='file:///Users/abehsu/.local/share/virtualenvs/mlops-zoomcamp-62aZbzDQ/lib/python3.9/site-packages/mlflow/store/tracking/sqlalchemy_store.py?line=250'>251</a>\u001b[0m     eid \u001b[39m=\u001b[39m session\u001b[39m.\u001b[39;49mquery(SqlExperiment)\u001b[39m.\u001b[39;49mfilter_by(name\u001b[39m=\u001b[39;49mname)\u001b[39m.\u001b[39;49mfirst()\u001b[39m.\u001b[39mexperiment_id\n\u001b[1;32m    <a href='file:///Users/abehsu/.local/share/virtualenvs/mlops-zoomcamp-62aZbzDQ/lib/python3.9/site-packages/mlflow/store/tracking/sqlalchemy_store.py?line=251'>252</a>\u001b[0m     experiment\u001b[39m.\u001b[39martifact_location \u001b[39m=\u001b[39m \u001b[39mself\u001b[39m\u001b[39m.\u001b[39m_get_artifact_location(eid)\n",
      "File \u001b[0;32m~/.local/share/virtualenvs/mlops-zoomcamp-62aZbzDQ/lib/python3.9/site-packages/sqlalchemy/orm/query.py:2819\u001b[0m, in \u001b[0;36mQuery.first\u001b[0;34m(self)\u001b[0m\n\u001b[1;32m   <a href='file:///Users/abehsu/.local/share/virtualenvs/mlops-zoomcamp-62aZbzDQ/lib/python3.9/site-packages/sqlalchemy/orm/query.py?line=2817'>2818</a>\u001b[0m \u001b[39melse\u001b[39;00m:\n\u001b[0;32m-> <a href='file:///Users/abehsu/.local/share/virtualenvs/mlops-zoomcamp-62aZbzDQ/lib/python3.9/site-packages/sqlalchemy/orm/query.py?line=2818'>2819</a>\u001b[0m     \u001b[39mreturn\u001b[39;00m \u001b[39mself\u001b[39;49m\u001b[39m.\u001b[39;49mlimit(\u001b[39m1\u001b[39;49m)\u001b[39m.\u001b[39;49m_iter()\u001b[39m.\u001b[39mfirst()\n",
      "File \u001b[0;32m~/.local/share/virtualenvs/mlops-zoomcamp-62aZbzDQ/lib/python3.9/site-packages/sqlalchemy/orm/query.py:2903\u001b[0m, in \u001b[0;36mQuery._iter\u001b[0;34m(self)\u001b[0m\n\u001b[1;32m   <a href='file:///Users/abehsu/.local/share/virtualenvs/mlops-zoomcamp-62aZbzDQ/lib/python3.9/site-packages/sqlalchemy/orm/query.py?line=2901'>2902</a>\u001b[0m statement \u001b[39m=\u001b[39m \u001b[39mself\u001b[39m\u001b[39m.\u001b[39m_statement_20()\n\u001b[0;32m-> <a href='file:///Users/abehsu/.local/share/virtualenvs/mlops-zoomcamp-62aZbzDQ/lib/python3.9/site-packages/sqlalchemy/orm/query.py?line=2902'>2903</a>\u001b[0m result \u001b[39m=\u001b[39m \u001b[39mself\u001b[39;49m\u001b[39m.\u001b[39;49msession\u001b[39m.\u001b[39;49mexecute(\n\u001b[1;32m   <a href='file:///Users/abehsu/.local/share/virtualenvs/mlops-zoomcamp-62aZbzDQ/lib/python3.9/site-packages/sqlalchemy/orm/query.py?line=2903'>2904</a>\u001b[0m     statement,\n\u001b[1;32m   <a href='file:///Users/abehsu/.local/share/virtualenvs/mlops-zoomcamp-62aZbzDQ/lib/python3.9/site-packages/sqlalchemy/orm/query.py?line=2904'>2905</a>\u001b[0m     params,\n\u001b[1;32m   <a href='file:///Users/abehsu/.local/share/virtualenvs/mlops-zoomcamp-62aZbzDQ/lib/python3.9/site-packages/sqlalchemy/orm/query.py?line=2905'>2906</a>\u001b[0m     execution_options\u001b[39m=\u001b[39;49m{\u001b[39m\"\u001b[39;49m\u001b[39m_sa_orm_load_options\u001b[39;49m\u001b[39m\"\u001b[39;49m: \u001b[39mself\u001b[39;49m\u001b[39m.\u001b[39;49mload_options},\n\u001b[1;32m   <a href='file:///Users/abehsu/.local/share/virtualenvs/mlops-zoomcamp-62aZbzDQ/lib/python3.9/site-packages/sqlalchemy/orm/query.py?line=2906'>2907</a>\u001b[0m )\n\u001b[1;32m   <a href='file:///Users/abehsu/.local/share/virtualenvs/mlops-zoomcamp-62aZbzDQ/lib/python3.9/site-packages/sqlalchemy/orm/query.py?line=2908'>2909</a>\u001b[0m \u001b[39m# legacy: automatically set scalars, unique\u001b[39;00m\n",
      "File \u001b[0;32m~/.local/share/virtualenvs/mlops-zoomcamp-62aZbzDQ/lib/python3.9/site-packages/sqlalchemy/orm/session.py:1644\u001b[0m, in \u001b[0;36mSession.execute\u001b[0;34m(self, statement, params, execution_options, bind_arguments, _parent_execute_state, _add_event, **kw)\u001b[0m\n\u001b[1;32m   <a href='file:///Users/abehsu/.local/share/virtualenvs/mlops-zoomcamp-62aZbzDQ/lib/python3.9/site-packages/sqlalchemy/orm/session.py?line=1639'>1640</a>\u001b[0m \u001b[39mif\u001b[39;00m compile_state_cls \u001b[39mis\u001b[39;00m \u001b[39mnot\u001b[39;00m \u001b[39mNone\u001b[39;00m:\n\u001b[1;32m   <a href='file:///Users/abehsu/.local/share/virtualenvs/mlops-zoomcamp-62aZbzDQ/lib/python3.9/site-packages/sqlalchemy/orm/session.py?line=1640'>1641</a>\u001b[0m     (\n\u001b[1;32m   <a href='file:///Users/abehsu/.local/share/virtualenvs/mlops-zoomcamp-62aZbzDQ/lib/python3.9/site-packages/sqlalchemy/orm/session.py?line=1641'>1642</a>\u001b[0m         statement,\n\u001b[1;32m   <a href='file:///Users/abehsu/.local/share/virtualenvs/mlops-zoomcamp-62aZbzDQ/lib/python3.9/site-packages/sqlalchemy/orm/session.py?line=1642'>1643</a>\u001b[0m         execution_options,\n\u001b[0;32m-> <a href='file:///Users/abehsu/.local/share/virtualenvs/mlops-zoomcamp-62aZbzDQ/lib/python3.9/site-packages/sqlalchemy/orm/session.py?line=1643'>1644</a>\u001b[0m     ) \u001b[39m=\u001b[39m compile_state_cls\u001b[39m.\u001b[39;49morm_pre_session_exec(\n\u001b[1;32m   <a href='file:///Users/abehsu/.local/share/virtualenvs/mlops-zoomcamp-62aZbzDQ/lib/python3.9/site-packages/sqlalchemy/orm/session.py?line=1644'>1645</a>\u001b[0m         \u001b[39mself\u001b[39;49m,\n\u001b[1;32m   <a href='file:///Users/abehsu/.local/share/virtualenvs/mlops-zoomcamp-62aZbzDQ/lib/python3.9/site-packages/sqlalchemy/orm/session.py?line=1645'>1646</a>\u001b[0m         statement,\n\u001b[1;32m   <a href='file:///Users/abehsu/.local/share/virtualenvs/mlops-zoomcamp-62aZbzDQ/lib/python3.9/site-packages/sqlalchemy/orm/session.py?line=1646'>1647</a>\u001b[0m         params,\n\u001b[1;32m   <a href='file:///Users/abehsu/.local/share/virtualenvs/mlops-zoomcamp-62aZbzDQ/lib/python3.9/site-packages/sqlalchemy/orm/session.py?line=1647'>1648</a>\u001b[0m         execution_options,\n\u001b[1;32m   <a href='file:///Users/abehsu/.local/share/virtualenvs/mlops-zoomcamp-62aZbzDQ/lib/python3.9/site-packages/sqlalchemy/orm/session.py?line=1648'>1649</a>\u001b[0m         bind_arguments,\n\u001b[1;32m   <a href='file:///Users/abehsu/.local/share/virtualenvs/mlops-zoomcamp-62aZbzDQ/lib/python3.9/site-packages/sqlalchemy/orm/session.py?line=1649'>1650</a>\u001b[0m         _parent_execute_state \u001b[39mis\u001b[39;49;00m \u001b[39mnot\u001b[39;49;00m \u001b[39mNone\u001b[39;49;00m,\n\u001b[1;32m   <a href='file:///Users/abehsu/.local/share/virtualenvs/mlops-zoomcamp-62aZbzDQ/lib/python3.9/site-packages/sqlalchemy/orm/session.py?line=1650'>1651</a>\u001b[0m     )\n\u001b[1;32m   <a href='file:///Users/abehsu/.local/share/virtualenvs/mlops-zoomcamp-62aZbzDQ/lib/python3.9/site-packages/sqlalchemy/orm/session.py?line=1651'>1652</a>\u001b[0m \u001b[39melse\u001b[39;00m:\n",
      "File \u001b[0;32m~/.local/share/virtualenvs/mlops-zoomcamp-62aZbzDQ/lib/python3.9/site-packages/sqlalchemy/orm/context.py:319\u001b[0m, in \u001b[0;36mORMCompileState.orm_pre_session_exec\u001b[0;34m(cls, session, statement, params, execution_options, bind_arguments, is_reentrant_invoke)\u001b[0m\n\u001b[1;32m    <a href='file:///Users/abehsu/.local/share/virtualenvs/mlops-zoomcamp-62aZbzDQ/lib/python3.9/site-packages/sqlalchemy/orm/context.py?line=317'>318</a>\u001b[0m \u001b[39mif\u001b[39;00m load_options\u001b[39m.\u001b[39m_autoflush:\n\u001b[0;32m--> <a href='file:///Users/abehsu/.local/share/virtualenvs/mlops-zoomcamp-62aZbzDQ/lib/python3.9/site-packages/sqlalchemy/orm/context.py?line=318'>319</a>\u001b[0m     session\u001b[39m.\u001b[39;49m_autoflush()\n\u001b[1;32m    <a href='file:///Users/abehsu/.local/share/virtualenvs/mlops-zoomcamp-62aZbzDQ/lib/python3.9/site-packages/sqlalchemy/orm/context.py?line=320'>321</a>\u001b[0m \u001b[39mreturn\u001b[39;00m statement, execution_options\n",
      "File \u001b[0;32m~/.local/share/virtualenvs/mlops-zoomcamp-62aZbzDQ/lib/python3.9/site-packages/sqlalchemy/orm/session.py:2241\u001b[0m, in \u001b[0;36mSession._autoflush\u001b[0;34m(self)\u001b[0m\n\u001b[1;32m   <a href='file:///Users/abehsu/.local/share/virtualenvs/mlops-zoomcamp-62aZbzDQ/lib/python3.9/site-packages/sqlalchemy/orm/session.py?line=2235'>2236</a>\u001b[0m e\u001b[39m.\u001b[39madd_detail(\n\u001b[1;32m   <a href='file:///Users/abehsu/.local/share/virtualenvs/mlops-zoomcamp-62aZbzDQ/lib/python3.9/site-packages/sqlalchemy/orm/session.py?line=2236'>2237</a>\u001b[0m     \u001b[39m\"\u001b[39m\u001b[39mraised as a result of Query-invoked autoflush; \u001b[39m\u001b[39m\"\u001b[39m\n\u001b[1;32m   <a href='file:///Users/abehsu/.local/share/virtualenvs/mlops-zoomcamp-62aZbzDQ/lib/python3.9/site-packages/sqlalchemy/orm/session.py?line=2237'>2238</a>\u001b[0m     \u001b[39m\"\u001b[39m\u001b[39mconsider using a session.no_autoflush block if this \u001b[39m\u001b[39m\"\u001b[39m\n\u001b[1;32m   <a href='file:///Users/abehsu/.local/share/virtualenvs/mlops-zoomcamp-62aZbzDQ/lib/python3.9/site-packages/sqlalchemy/orm/session.py?line=2238'>2239</a>\u001b[0m     \u001b[39m\"\u001b[39m\u001b[39mflush is occurring prematurely\u001b[39m\u001b[39m\"\u001b[39m\n\u001b[1;32m   <a href='file:///Users/abehsu/.local/share/virtualenvs/mlops-zoomcamp-62aZbzDQ/lib/python3.9/site-packages/sqlalchemy/orm/session.py?line=2239'>2240</a>\u001b[0m )\n\u001b[0;32m-> <a href='file:///Users/abehsu/.local/share/virtualenvs/mlops-zoomcamp-62aZbzDQ/lib/python3.9/site-packages/sqlalchemy/orm/session.py?line=2240'>2241</a>\u001b[0m util\u001b[39m.\u001b[39;49mraise_(e, with_traceback\u001b[39m=\u001b[39;49msys\u001b[39m.\u001b[39;49mexc_info()[\u001b[39m2\u001b[39;49m])\n",
      "File \u001b[0;32m~/.local/share/virtualenvs/mlops-zoomcamp-62aZbzDQ/lib/python3.9/site-packages/sqlalchemy/util/compat.py:207\u001b[0m, in \u001b[0;36mraise_\u001b[0;34m(***failed resolving arguments***)\u001b[0m\n\u001b[1;32m    <a href='file:///Users/abehsu/.local/share/virtualenvs/mlops-zoomcamp-62aZbzDQ/lib/python3.9/site-packages/sqlalchemy/util/compat.py?line=205'>206</a>\u001b[0m \u001b[39mtry\u001b[39;00m:\n\u001b[0;32m--> <a href='file:///Users/abehsu/.local/share/virtualenvs/mlops-zoomcamp-62aZbzDQ/lib/python3.9/site-packages/sqlalchemy/util/compat.py?line=206'>207</a>\u001b[0m     \u001b[39mraise\u001b[39;00m exception\n\u001b[1;32m    <a href='file:///Users/abehsu/.local/share/virtualenvs/mlops-zoomcamp-62aZbzDQ/lib/python3.9/site-packages/sqlalchemy/util/compat.py?line=207'>208</a>\u001b[0m \u001b[39mfinally\u001b[39;00m:\n\u001b[1;32m    <a href='file:///Users/abehsu/.local/share/virtualenvs/mlops-zoomcamp-62aZbzDQ/lib/python3.9/site-packages/sqlalchemy/util/compat.py?line=208'>209</a>\u001b[0m     \u001b[39m# credit to\u001b[39;00m\n\u001b[1;32m    <a href='file:///Users/abehsu/.local/share/virtualenvs/mlops-zoomcamp-62aZbzDQ/lib/python3.9/site-packages/sqlalchemy/util/compat.py?line=209'>210</a>\u001b[0m     \u001b[39m# https://cosmicpercolator.com/2016/01/13/exception-leaks-in-python-2-and-3/\u001b[39;00m\n\u001b[1;32m    <a href='file:///Users/abehsu/.local/share/virtualenvs/mlops-zoomcamp-62aZbzDQ/lib/python3.9/site-packages/sqlalchemy/util/compat.py?line=210'>211</a>\u001b[0m     \u001b[39m# as the __traceback__ object creates a cycle\u001b[39;00m\n",
      "File \u001b[0;32m~/.local/share/virtualenvs/mlops-zoomcamp-62aZbzDQ/lib/python3.9/site-packages/sqlalchemy/orm/session.py:2230\u001b[0m, in \u001b[0;36mSession._autoflush\u001b[0;34m(self)\u001b[0m\n\u001b[1;32m   <a href='file:///Users/abehsu/.local/share/virtualenvs/mlops-zoomcamp-62aZbzDQ/lib/python3.9/site-packages/sqlalchemy/orm/session.py?line=2228'>2229</a>\u001b[0m \u001b[39mtry\u001b[39;00m:\n\u001b[0;32m-> <a href='file:///Users/abehsu/.local/share/virtualenvs/mlops-zoomcamp-62aZbzDQ/lib/python3.9/site-packages/sqlalchemy/orm/session.py?line=2229'>2230</a>\u001b[0m     \u001b[39mself\u001b[39;49m\u001b[39m.\u001b[39;49mflush()\n\u001b[1;32m   <a href='file:///Users/abehsu/.local/share/virtualenvs/mlops-zoomcamp-62aZbzDQ/lib/python3.9/site-packages/sqlalchemy/orm/session.py?line=2230'>2231</a>\u001b[0m \u001b[39mexcept\u001b[39;00m sa_exc\u001b[39m.\u001b[39mStatementError \u001b[39mas\u001b[39;00m e:\n\u001b[1;32m   <a href='file:///Users/abehsu/.local/share/virtualenvs/mlops-zoomcamp-62aZbzDQ/lib/python3.9/site-packages/sqlalchemy/orm/session.py?line=2231'>2232</a>\u001b[0m     \u001b[39m# note we are reraising StatementError as opposed to\u001b[39;00m\n\u001b[1;32m   <a href='file:///Users/abehsu/.local/share/virtualenvs/mlops-zoomcamp-62aZbzDQ/lib/python3.9/site-packages/sqlalchemy/orm/session.py?line=2232'>2233</a>\u001b[0m     \u001b[39m# raising FlushError with \"chaining\" to remain compatible\u001b[39;00m\n\u001b[1;32m   <a href='file:///Users/abehsu/.local/share/virtualenvs/mlops-zoomcamp-62aZbzDQ/lib/python3.9/site-packages/sqlalchemy/orm/session.py?line=2233'>2234</a>\u001b[0m     \u001b[39m# with code that catches StatementError, IntegrityError,\u001b[39;00m\n\u001b[1;32m   <a href='file:///Users/abehsu/.local/share/virtualenvs/mlops-zoomcamp-62aZbzDQ/lib/python3.9/site-packages/sqlalchemy/orm/session.py?line=2234'>2235</a>\u001b[0m     \u001b[39m# etc.\u001b[39;00m\n",
      "File \u001b[0;32m~/.local/share/virtualenvs/mlops-zoomcamp-62aZbzDQ/lib/python3.9/site-packages/sqlalchemy/orm/session.py:3367\u001b[0m, in \u001b[0;36mSession.flush\u001b[0;34m(self, objects)\u001b[0m\n\u001b[1;32m   <a href='file:///Users/abehsu/.local/share/virtualenvs/mlops-zoomcamp-62aZbzDQ/lib/python3.9/site-packages/sqlalchemy/orm/session.py?line=3365'>3366</a>\u001b[0m     \u001b[39mself\u001b[39m\u001b[39m.\u001b[39m_flushing \u001b[39m=\u001b[39m \u001b[39mTrue\u001b[39;00m\n\u001b[0;32m-> <a href='file:///Users/abehsu/.local/share/virtualenvs/mlops-zoomcamp-62aZbzDQ/lib/python3.9/site-packages/sqlalchemy/orm/session.py?line=3366'>3367</a>\u001b[0m     \u001b[39mself\u001b[39;49m\u001b[39m.\u001b[39;49m_flush(objects)\n\u001b[1;32m   <a href='file:///Users/abehsu/.local/share/virtualenvs/mlops-zoomcamp-62aZbzDQ/lib/python3.9/site-packages/sqlalchemy/orm/session.py?line=3367'>3368</a>\u001b[0m \u001b[39mfinally\u001b[39;00m:\n",
      "File \u001b[0;32m~/.local/share/virtualenvs/mlops-zoomcamp-62aZbzDQ/lib/python3.9/site-packages/sqlalchemy/orm/session.py:3507\u001b[0m, in \u001b[0;36mSession._flush\u001b[0;34m(self, objects)\u001b[0m\n\u001b[1;32m   <a href='file:///Users/abehsu/.local/share/virtualenvs/mlops-zoomcamp-62aZbzDQ/lib/python3.9/site-packages/sqlalchemy/orm/session.py?line=3505'>3506</a>\u001b[0m \u001b[39mwith\u001b[39;00m util\u001b[39m.\u001b[39msafe_reraise():\n\u001b[0;32m-> <a href='file:///Users/abehsu/.local/share/virtualenvs/mlops-zoomcamp-62aZbzDQ/lib/python3.9/site-packages/sqlalchemy/orm/session.py?line=3506'>3507</a>\u001b[0m     transaction\u001b[39m.\u001b[39mrollback(_capture_exception\u001b[39m=\u001b[39m\u001b[39mTrue\u001b[39;00m)\n",
      "File \u001b[0;32m~/.local/share/virtualenvs/mlops-zoomcamp-62aZbzDQ/lib/python3.9/site-packages/sqlalchemy/util/langhelpers.py:70\u001b[0m, in \u001b[0;36msafe_reraise.__exit__\u001b[0;34m(self, type_, value, traceback)\u001b[0m\n\u001b[1;32m     <a href='file:///Users/abehsu/.local/share/virtualenvs/mlops-zoomcamp-62aZbzDQ/lib/python3.9/site-packages/sqlalchemy/util/langhelpers.py?line=68'>69</a>\u001b[0m     \u001b[39mif\u001b[39;00m \u001b[39mnot\u001b[39;00m \u001b[39mself\u001b[39m\u001b[39m.\u001b[39mwarn_only:\n\u001b[0;32m---> <a href='file:///Users/abehsu/.local/share/virtualenvs/mlops-zoomcamp-62aZbzDQ/lib/python3.9/site-packages/sqlalchemy/util/langhelpers.py?line=69'>70</a>\u001b[0m         compat\u001b[39m.\u001b[39;49mraise_(\n\u001b[1;32m     <a href='file:///Users/abehsu/.local/share/virtualenvs/mlops-zoomcamp-62aZbzDQ/lib/python3.9/site-packages/sqlalchemy/util/langhelpers.py?line=70'>71</a>\u001b[0m             exc_value,\n\u001b[1;32m     <a href='file:///Users/abehsu/.local/share/virtualenvs/mlops-zoomcamp-62aZbzDQ/lib/python3.9/site-packages/sqlalchemy/util/langhelpers.py?line=71'>72</a>\u001b[0m             with_traceback\u001b[39m=\u001b[39;49mexc_tb,\n\u001b[1;32m     <a href='file:///Users/abehsu/.local/share/virtualenvs/mlops-zoomcamp-62aZbzDQ/lib/python3.9/site-packages/sqlalchemy/util/langhelpers.py?line=72'>73</a>\u001b[0m         )\n\u001b[1;32m     <a href='file:///Users/abehsu/.local/share/virtualenvs/mlops-zoomcamp-62aZbzDQ/lib/python3.9/site-packages/sqlalchemy/util/langhelpers.py?line=73'>74</a>\u001b[0m \u001b[39melse\u001b[39;00m:\n",
      "File \u001b[0;32m~/.local/share/virtualenvs/mlops-zoomcamp-62aZbzDQ/lib/python3.9/site-packages/sqlalchemy/util/compat.py:207\u001b[0m, in \u001b[0;36mraise_\u001b[0;34m(***failed resolving arguments***)\u001b[0m\n\u001b[1;32m    <a href='file:///Users/abehsu/.local/share/virtualenvs/mlops-zoomcamp-62aZbzDQ/lib/python3.9/site-packages/sqlalchemy/util/compat.py?line=205'>206</a>\u001b[0m \u001b[39mtry\u001b[39;00m:\n\u001b[0;32m--> <a href='file:///Users/abehsu/.local/share/virtualenvs/mlops-zoomcamp-62aZbzDQ/lib/python3.9/site-packages/sqlalchemy/util/compat.py?line=206'>207</a>\u001b[0m     \u001b[39mraise\u001b[39;00m exception\n\u001b[1;32m    <a href='file:///Users/abehsu/.local/share/virtualenvs/mlops-zoomcamp-62aZbzDQ/lib/python3.9/site-packages/sqlalchemy/util/compat.py?line=207'>208</a>\u001b[0m \u001b[39mfinally\u001b[39;00m:\n\u001b[1;32m    <a href='file:///Users/abehsu/.local/share/virtualenvs/mlops-zoomcamp-62aZbzDQ/lib/python3.9/site-packages/sqlalchemy/util/compat.py?line=208'>209</a>\u001b[0m     \u001b[39m# credit to\u001b[39;00m\n\u001b[1;32m    <a href='file:///Users/abehsu/.local/share/virtualenvs/mlops-zoomcamp-62aZbzDQ/lib/python3.9/site-packages/sqlalchemy/util/compat.py?line=209'>210</a>\u001b[0m     \u001b[39m# https://cosmicpercolator.com/2016/01/13/exception-leaks-in-python-2-and-3/\u001b[39;00m\n\u001b[1;32m    <a href='file:///Users/abehsu/.local/share/virtualenvs/mlops-zoomcamp-62aZbzDQ/lib/python3.9/site-packages/sqlalchemy/util/compat.py?line=210'>211</a>\u001b[0m     \u001b[39m# as the __traceback__ object creates a cycle\u001b[39;00m\n",
      "File \u001b[0;32m~/.local/share/virtualenvs/mlops-zoomcamp-62aZbzDQ/lib/python3.9/site-packages/sqlalchemy/orm/session.py:3467\u001b[0m, in \u001b[0;36mSession._flush\u001b[0;34m(self, objects)\u001b[0m\n\u001b[1;32m   <a href='file:///Users/abehsu/.local/share/virtualenvs/mlops-zoomcamp-62aZbzDQ/lib/python3.9/site-packages/sqlalchemy/orm/session.py?line=3465'>3466</a>\u001b[0m \u001b[39mtry\u001b[39;00m:\n\u001b[0;32m-> <a href='file:///Users/abehsu/.local/share/virtualenvs/mlops-zoomcamp-62aZbzDQ/lib/python3.9/site-packages/sqlalchemy/orm/session.py?line=3466'>3467</a>\u001b[0m     flush_context\u001b[39m.\u001b[39;49mexecute()\n\u001b[1;32m   <a href='file:///Users/abehsu/.local/share/virtualenvs/mlops-zoomcamp-62aZbzDQ/lib/python3.9/site-packages/sqlalchemy/orm/session.py?line=3467'>3468</a>\u001b[0m \u001b[39mfinally\u001b[39;00m:\n",
      "File \u001b[0;32m~/.local/share/virtualenvs/mlops-zoomcamp-62aZbzDQ/lib/python3.9/site-packages/sqlalchemy/orm/unitofwork.py:456\u001b[0m, in \u001b[0;36mUOWTransaction.execute\u001b[0;34m(self)\u001b[0m\n\u001b[1;32m    <a href='file:///Users/abehsu/.local/share/virtualenvs/mlops-zoomcamp-62aZbzDQ/lib/python3.9/site-packages/sqlalchemy/orm/unitofwork.py?line=454'>455</a>\u001b[0m \u001b[39mfor\u001b[39;00m rec \u001b[39min\u001b[39;00m topological\u001b[39m.\u001b[39msort(\u001b[39mself\u001b[39m\u001b[39m.\u001b[39mdependencies, postsort_actions):\n\u001b[0;32m--> <a href='file:///Users/abehsu/.local/share/virtualenvs/mlops-zoomcamp-62aZbzDQ/lib/python3.9/site-packages/sqlalchemy/orm/unitofwork.py?line=455'>456</a>\u001b[0m     rec\u001b[39m.\u001b[39;49mexecute(\u001b[39mself\u001b[39;49m)\n",
      "File \u001b[0;32m~/.local/share/virtualenvs/mlops-zoomcamp-62aZbzDQ/lib/python3.9/site-packages/sqlalchemy/orm/unitofwork.py:630\u001b[0m, in \u001b[0;36mSaveUpdateAll.execute\u001b[0;34m(self, uow)\u001b[0m\n\u001b[1;32m    <a href='file:///Users/abehsu/.local/share/virtualenvs/mlops-zoomcamp-62aZbzDQ/lib/python3.9/site-packages/sqlalchemy/orm/unitofwork.py?line=627'>628</a>\u001b[0m \u001b[39m@util\u001b[39m\u001b[39m.\u001b[39mpreload_module(\u001b[39m\"\u001b[39m\u001b[39msqlalchemy.orm.persistence\u001b[39m\u001b[39m\"\u001b[39m)\n\u001b[1;32m    <a href='file:///Users/abehsu/.local/share/virtualenvs/mlops-zoomcamp-62aZbzDQ/lib/python3.9/site-packages/sqlalchemy/orm/unitofwork.py?line=628'>629</a>\u001b[0m \u001b[39mdef\u001b[39;00m \u001b[39mexecute\u001b[39m(\u001b[39mself\u001b[39m, uow):\n\u001b[0;32m--> <a href='file:///Users/abehsu/.local/share/virtualenvs/mlops-zoomcamp-62aZbzDQ/lib/python3.9/site-packages/sqlalchemy/orm/unitofwork.py?line=629'>630</a>\u001b[0m     util\u001b[39m.\u001b[39;49mpreloaded\u001b[39m.\u001b[39;49morm_persistence\u001b[39m.\u001b[39;49msave_obj(\n\u001b[1;32m    <a href='file:///Users/abehsu/.local/share/virtualenvs/mlops-zoomcamp-62aZbzDQ/lib/python3.9/site-packages/sqlalchemy/orm/unitofwork.py?line=630'>631</a>\u001b[0m         \u001b[39mself\u001b[39;49m\u001b[39m.\u001b[39;49mmapper,\n\u001b[1;32m    <a href='file:///Users/abehsu/.local/share/virtualenvs/mlops-zoomcamp-62aZbzDQ/lib/python3.9/site-packages/sqlalchemy/orm/unitofwork.py?line=631'>632</a>\u001b[0m         uow\u001b[39m.\u001b[39;49mstates_for_mapper_hierarchy(\u001b[39mself\u001b[39;49m\u001b[39m.\u001b[39;49mmapper, \u001b[39mFalse\u001b[39;49;00m, \u001b[39mFalse\u001b[39;49;00m),\n\u001b[1;32m    <a href='file:///Users/abehsu/.local/share/virtualenvs/mlops-zoomcamp-62aZbzDQ/lib/python3.9/site-packages/sqlalchemy/orm/unitofwork.py?line=632'>633</a>\u001b[0m         uow,\n\u001b[1;32m    <a href='file:///Users/abehsu/.local/share/virtualenvs/mlops-zoomcamp-62aZbzDQ/lib/python3.9/site-packages/sqlalchemy/orm/unitofwork.py?line=633'>634</a>\u001b[0m     )\n",
      "File \u001b[0;32m~/.local/share/virtualenvs/mlops-zoomcamp-62aZbzDQ/lib/python3.9/site-packages/sqlalchemy/orm/persistence.py:245\u001b[0m, in \u001b[0;36msave_obj\u001b[0;34m(base_mapper, states, uowtransaction, single)\u001b[0m\n\u001b[1;32m    <a href='file:///Users/abehsu/.local/share/virtualenvs/mlops-zoomcamp-62aZbzDQ/lib/python3.9/site-packages/sqlalchemy/orm/persistence.py?line=236'>237</a>\u001b[0m     _emit_update_statements(\n\u001b[1;32m    <a href='file:///Users/abehsu/.local/share/virtualenvs/mlops-zoomcamp-62aZbzDQ/lib/python3.9/site-packages/sqlalchemy/orm/persistence.py?line=237'>238</a>\u001b[0m         base_mapper,\n\u001b[1;32m    <a href='file:///Users/abehsu/.local/share/virtualenvs/mlops-zoomcamp-62aZbzDQ/lib/python3.9/site-packages/sqlalchemy/orm/persistence.py?line=238'>239</a>\u001b[0m         uowtransaction,\n\u001b[0;32m   (...)\u001b[0m\n\u001b[1;32m    <a href='file:///Users/abehsu/.local/share/virtualenvs/mlops-zoomcamp-62aZbzDQ/lib/python3.9/site-packages/sqlalchemy/orm/persistence.py?line=241'>242</a>\u001b[0m         update,\n\u001b[1;32m    <a href='file:///Users/abehsu/.local/share/virtualenvs/mlops-zoomcamp-62aZbzDQ/lib/python3.9/site-packages/sqlalchemy/orm/persistence.py?line=242'>243</a>\u001b[0m     )\n\u001b[0;32m--> <a href='file:///Users/abehsu/.local/share/virtualenvs/mlops-zoomcamp-62aZbzDQ/lib/python3.9/site-packages/sqlalchemy/orm/persistence.py?line=244'>245</a>\u001b[0m     _emit_insert_statements(\n\u001b[1;32m    <a href='file:///Users/abehsu/.local/share/virtualenvs/mlops-zoomcamp-62aZbzDQ/lib/python3.9/site-packages/sqlalchemy/orm/persistence.py?line=245'>246</a>\u001b[0m         base_mapper,\n\u001b[1;32m    <a href='file:///Users/abehsu/.local/share/virtualenvs/mlops-zoomcamp-62aZbzDQ/lib/python3.9/site-packages/sqlalchemy/orm/persistence.py?line=246'>247</a>\u001b[0m         uowtransaction,\n\u001b[1;32m    <a href='file:///Users/abehsu/.local/share/virtualenvs/mlops-zoomcamp-62aZbzDQ/lib/python3.9/site-packages/sqlalchemy/orm/persistence.py?line=247'>248</a>\u001b[0m         mapper,\n\u001b[1;32m    <a href='file:///Users/abehsu/.local/share/virtualenvs/mlops-zoomcamp-62aZbzDQ/lib/python3.9/site-packages/sqlalchemy/orm/persistence.py?line=248'>249</a>\u001b[0m         table,\n\u001b[1;32m    <a href='file:///Users/abehsu/.local/share/virtualenvs/mlops-zoomcamp-62aZbzDQ/lib/python3.9/site-packages/sqlalchemy/orm/persistence.py?line=249'>250</a>\u001b[0m         insert,\n\u001b[1;32m    <a href='file:///Users/abehsu/.local/share/virtualenvs/mlops-zoomcamp-62aZbzDQ/lib/python3.9/site-packages/sqlalchemy/orm/persistence.py?line=250'>251</a>\u001b[0m     )\n\u001b[1;32m    <a href='file:///Users/abehsu/.local/share/virtualenvs/mlops-zoomcamp-62aZbzDQ/lib/python3.9/site-packages/sqlalchemy/orm/persistence.py?line=252'>253</a>\u001b[0m _finalize_insert_update_commands(\n\u001b[1;32m    <a href='file:///Users/abehsu/.local/share/virtualenvs/mlops-zoomcamp-62aZbzDQ/lib/python3.9/site-packages/sqlalchemy/orm/persistence.py?line=253'>254</a>\u001b[0m     base_mapper,\n\u001b[1;32m    <a href='file:///Users/abehsu/.local/share/virtualenvs/mlops-zoomcamp-62aZbzDQ/lib/python3.9/site-packages/sqlalchemy/orm/persistence.py?line=254'>255</a>\u001b[0m     uowtransaction,\n\u001b[0;32m   (...)\u001b[0m\n\u001b[1;32m    <a href='file:///Users/abehsu/.local/share/virtualenvs/mlops-zoomcamp-62aZbzDQ/lib/python3.9/site-packages/sqlalchemy/orm/persistence.py?line=270'>271</a>\u001b[0m     ),\n\u001b[1;32m    <a href='file:///Users/abehsu/.local/share/virtualenvs/mlops-zoomcamp-62aZbzDQ/lib/python3.9/site-packages/sqlalchemy/orm/persistence.py?line=271'>272</a>\u001b[0m )\n",
      "File \u001b[0;32m~/.local/share/virtualenvs/mlops-zoomcamp-62aZbzDQ/lib/python3.9/site-packages/sqlalchemy/orm/persistence.py:1238\u001b[0m, in \u001b[0;36m_emit_insert_statements\u001b[0;34m(base_mapper, uowtransaction, mapper, table, insert, bookkeeping)\u001b[0m\n\u001b[1;32m   <a href='file:///Users/abehsu/.local/share/virtualenvs/mlops-zoomcamp-62aZbzDQ/lib/python3.9/site-packages/sqlalchemy/orm/persistence.py?line=1236'>1237</a>\u001b[0m \u001b[39melse\u001b[39;00m:\n\u001b[0;32m-> <a href='file:///Users/abehsu/.local/share/virtualenvs/mlops-zoomcamp-62aZbzDQ/lib/python3.9/site-packages/sqlalchemy/orm/persistence.py?line=1237'>1238</a>\u001b[0m     result \u001b[39m=\u001b[39m connection\u001b[39m.\u001b[39;49m_execute_20(\n\u001b[1;32m   <a href='file:///Users/abehsu/.local/share/virtualenvs/mlops-zoomcamp-62aZbzDQ/lib/python3.9/site-packages/sqlalchemy/orm/persistence.py?line=1238'>1239</a>\u001b[0m         statement,\n\u001b[1;32m   <a href='file:///Users/abehsu/.local/share/virtualenvs/mlops-zoomcamp-62aZbzDQ/lib/python3.9/site-packages/sqlalchemy/orm/persistence.py?line=1239'>1240</a>\u001b[0m         params,\n\u001b[1;32m   <a href='file:///Users/abehsu/.local/share/virtualenvs/mlops-zoomcamp-62aZbzDQ/lib/python3.9/site-packages/sqlalchemy/orm/persistence.py?line=1240'>1241</a>\u001b[0m         execution_options\u001b[39m=\u001b[39;49mexecution_options,\n\u001b[1;32m   <a href='file:///Users/abehsu/.local/share/virtualenvs/mlops-zoomcamp-62aZbzDQ/lib/python3.9/site-packages/sqlalchemy/orm/persistence.py?line=1241'>1242</a>\u001b[0m     )\n\u001b[1;32m   <a href='file:///Users/abehsu/.local/share/virtualenvs/mlops-zoomcamp-62aZbzDQ/lib/python3.9/site-packages/sqlalchemy/orm/persistence.py?line=1243'>1244</a>\u001b[0m primary_key \u001b[39m=\u001b[39m result\u001b[39m.\u001b[39minserted_primary_key\n",
      "File \u001b[0;32m~/.local/share/virtualenvs/mlops-zoomcamp-62aZbzDQ/lib/python3.9/site-packages/sqlalchemy/engine/base.py:1631\u001b[0m, in \u001b[0;36mConnection._execute_20\u001b[0;34m(self, statement, parameters, execution_options)\u001b[0m\n\u001b[1;32m   <a href='file:///Users/abehsu/.local/share/virtualenvs/mlops-zoomcamp-62aZbzDQ/lib/python3.9/site-packages/sqlalchemy/engine/base.py?line=1629'>1630</a>\u001b[0m \u001b[39melse\u001b[39;00m:\n\u001b[0;32m-> <a href='file:///Users/abehsu/.local/share/virtualenvs/mlops-zoomcamp-62aZbzDQ/lib/python3.9/site-packages/sqlalchemy/engine/base.py?line=1630'>1631</a>\u001b[0m     \u001b[39mreturn\u001b[39;00m meth(\u001b[39mself\u001b[39;49m, args_10style, kwargs_10style, execution_options)\n",
      "File \u001b[0;32m~/.local/share/virtualenvs/mlops-zoomcamp-62aZbzDQ/lib/python3.9/site-packages/sqlalchemy/sql/elements.py:325\u001b[0m, in \u001b[0;36mClauseElement._execute_on_connection\u001b[0;34m(self, connection, multiparams, params, execution_options, _force)\u001b[0m\n\u001b[1;32m    <a href='file:///Users/abehsu/.local/share/virtualenvs/mlops-zoomcamp-62aZbzDQ/lib/python3.9/site-packages/sqlalchemy/sql/elements.py?line=323'>324</a>\u001b[0m \u001b[39mif\u001b[39;00m _force \u001b[39mor\u001b[39;00m \u001b[39mself\u001b[39m\u001b[39m.\u001b[39msupports_execution:\n\u001b[0;32m--> <a href='file:///Users/abehsu/.local/share/virtualenvs/mlops-zoomcamp-62aZbzDQ/lib/python3.9/site-packages/sqlalchemy/sql/elements.py?line=324'>325</a>\u001b[0m     \u001b[39mreturn\u001b[39;00m connection\u001b[39m.\u001b[39;49m_execute_clauseelement(\n\u001b[1;32m    <a href='file:///Users/abehsu/.local/share/virtualenvs/mlops-zoomcamp-62aZbzDQ/lib/python3.9/site-packages/sqlalchemy/sql/elements.py?line=325'>326</a>\u001b[0m         \u001b[39mself\u001b[39;49m, multiparams, params, execution_options\n\u001b[1;32m    <a href='file:///Users/abehsu/.local/share/virtualenvs/mlops-zoomcamp-62aZbzDQ/lib/python3.9/site-packages/sqlalchemy/sql/elements.py?line=326'>327</a>\u001b[0m     )\n\u001b[1;32m    <a href='file:///Users/abehsu/.local/share/virtualenvs/mlops-zoomcamp-62aZbzDQ/lib/python3.9/site-packages/sqlalchemy/sql/elements.py?line=327'>328</a>\u001b[0m \u001b[39melse\u001b[39;00m:\n",
      "File \u001b[0;32m~/.local/share/virtualenvs/mlops-zoomcamp-62aZbzDQ/lib/python3.9/site-packages/sqlalchemy/engine/base.py:1498\u001b[0m, in \u001b[0;36mConnection._execute_clauseelement\u001b[0;34m(self, elem, multiparams, params, execution_options)\u001b[0m\n\u001b[1;32m   <a href='file:///Users/abehsu/.local/share/virtualenvs/mlops-zoomcamp-62aZbzDQ/lib/python3.9/site-packages/sqlalchemy/engine/base.py?line=1489'>1490</a>\u001b[0m compiled_sql, extracted_params, cache_hit \u001b[39m=\u001b[39m elem\u001b[39m.\u001b[39m_compile_w_cache(\n\u001b[1;32m   <a href='file:///Users/abehsu/.local/share/virtualenvs/mlops-zoomcamp-62aZbzDQ/lib/python3.9/site-packages/sqlalchemy/engine/base.py?line=1490'>1491</a>\u001b[0m     dialect\u001b[39m=\u001b[39mdialect,\n\u001b[1;32m   <a href='file:///Users/abehsu/.local/share/virtualenvs/mlops-zoomcamp-62aZbzDQ/lib/python3.9/site-packages/sqlalchemy/engine/base.py?line=1491'>1492</a>\u001b[0m     compiled_cache\u001b[39m=\u001b[39mcompiled_cache,\n\u001b[0;32m   (...)\u001b[0m\n\u001b[1;32m   <a href='file:///Users/abehsu/.local/share/virtualenvs/mlops-zoomcamp-62aZbzDQ/lib/python3.9/site-packages/sqlalchemy/engine/base.py?line=1495'>1496</a>\u001b[0m     linting\u001b[39m=\u001b[39m\u001b[39mself\u001b[39m\u001b[39m.\u001b[39mdialect\u001b[39m.\u001b[39mcompiler_linting \u001b[39m|\u001b[39m compiler\u001b[39m.\u001b[39mWARN_LINTING,\n\u001b[1;32m   <a href='file:///Users/abehsu/.local/share/virtualenvs/mlops-zoomcamp-62aZbzDQ/lib/python3.9/site-packages/sqlalchemy/engine/base.py?line=1496'>1497</a>\u001b[0m )\n\u001b[0;32m-> <a href='file:///Users/abehsu/.local/share/virtualenvs/mlops-zoomcamp-62aZbzDQ/lib/python3.9/site-packages/sqlalchemy/engine/base.py?line=1497'>1498</a>\u001b[0m ret \u001b[39m=\u001b[39m \u001b[39mself\u001b[39;49m\u001b[39m.\u001b[39;49m_execute_context(\n\u001b[1;32m   <a href='file:///Users/abehsu/.local/share/virtualenvs/mlops-zoomcamp-62aZbzDQ/lib/python3.9/site-packages/sqlalchemy/engine/base.py?line=1498'>1499</a>\u001b[0m     dialect,\n\u001b[1;32m   <a href='file:///Users/abehsu/.local/share/virtualenvs/mlops-zoomcamp-62aZbzDQ/lib/python3.9/site-packages/sqlalchemy/engine/base.py?line=1499'>1500</a>\u001b[0m     dialect\u001b[39m.\u001b[39;49mexecution_ctx_cls\u001b[39m.\u001b[39;49m_init_compiled,\n\u001b[1;32m   <a href='file:///Users/abehsu/.local/share/virtualenvs/mlops-zoomcamp-62aZbzDQ/lib/python3.9/site-packages/sqlalchemy/engine/base.py?line=1500'>1501</a>\u001b[0m     compiled_sql,\n\u001b[1;32m   <a href='file:///Users/abehsu/.local/share/virtualenvs/mlops-zoomcamp-62aZbzDQ/lib/python3.9/site-packages/sqlalchemy/engine/base.py?line=1501'>1502</a>\u001b[0m     distilled_params,\n\u001b[1;32m   <a href='file:///Users/abehsu/.local/share/virtualenvs/mlops-zoomcamp-62aZbzDQ/lib/python3.9/site-packages/sqlalchemy/engine/base.py?line=1502'>1503</a>\u001b[0m     execution_options,\n\u001b[1;32m   <a href='file:///Users/abehsu/.local/share/virtualenvs/mlops-zoomcamp-62aZbzDQ/lib/python3.9/site-packages/sqlalchemy/engine/base.py?line=1503'>1504</a>\u001b[0m     compiled_sql,\n\u001b[1;32m   <a href='file:///Users/abehsu/.local/share/virtualenvs/mlops-zoomcamp-62aZbzDQ/lib/python3.9/site-packages/sqlalchemy/engine/base.py?line=1504'>1505</a>\u001b[0m     distilled_params,\n\u001b[1;32m   <a href='file:///Users/abehsu/.local/share/virtualenvs/mlops-zoomcamp-62aZbzDQ/lib/python3.9/site-packages/sqlalchemy/engine/base.py?line=1505'>1506</a>\u001b[0m     elem,\n\u001b[1;32m   <a href='file:///Users/abehsu/.local/share/virtualenvs/mlops-zoomcamp-62aZbzDQ/lib/python3.9/site-packages/sqlalchemy/engine/base.py?line=1506'>1507</a>\u001b[0m     extracted_params,\n\u001b[1;32m   <a href='file:///Users/abehsu/.local/share/virtualenvs/mlops-zoomcamp-62aZbzDQ/lib/python3.9/site-packages/sqlalchemy/engine/base.py?line=1507'>1508</a>\u001b[0m     cache_hit\u001b[39m=\u001b[39;49mcache_hit,\n\u001b[1;32m   <a href='file:///Users/abehsu/.local/share/virtualenvs/mlops-zoomcamp-62aZbzDQ/lib/python3.9/site-packages/sqlalchemy/engine/base.py?line=1508'>1509</a>\u001b[0m )\n\u001b[1;32m   <a href='file:///Users/abehsu/.local/share/virtualenvs/mlops-zoomcamp-62aZbzDQ/lib/python3.9/site-packages/sqlalchemy/engine/base.py?line=1509'>1510</a>\u001b[0m \u001b[39mif\u001b[39;00m has_events:\n",
      "File \u001b[0;32m~/.local/share/virtualenvs/mlops-zoomcamp-62aZbzDQ/lib/python3.9/site-packages/sqlalchemy/engine/base.py:1862\u001b[0m, in \u001b[0;36mConnection._execute_context\u001b[0;34m(self, dialect, constructor, statement, parameters, execution_options, *args, **kw)\u001b[0m\n\u001b[1;32m   <a href='file:///Users/abehsu/.local/share/virtualenvs/mlops-zoomcamp-62aZbzDQ/lib/python3.9/site-packages/sqlalchemy/engine/base.py?line=1860'>1861</a>\u001b[0m \u001b[39mexcept\u001b[39;00m \u001b[39mBaseException\u001b[39;00m \u001b[39mas\u001b[39;00m e:\n\u001b[0;32m-> <a href='file:///Users/abehsu/.local/share/virtualenvs/mlops-zoomcamp-62aZbzDQ/lib/python3.9/site-packages/sqlalchemy/engine/base.py?line=1861'>1862</a>\u001b[0m     \u001b[39mself\u001b[39;49m\u001b[39m.\u001b[39;49m_handle_dbapi_exception(\n\u001b[1;32m   <a href='file:///Users/abehsu/.local/share/virtualenvs/mlops-zoomcamp-62aZbzDQ/lib/python3.9/site-packages/sqlalchemy/engine/base.py?line=1862'>1863</a>\u001b[0m         e, statement, parameters, cursor, context\n\u001b[1;32m   <a href='file:///Users/abehsu/.local/share/virtualenvs/mlops-zoomcamp-62aZbzDQ/lib/python3.9/site-packages/sqlalchemy/engine/base.py?line=1863'>1864</a>\u001b[0m     )\n\u001b[1;32m   <a href='file:///Users/abehsu/.local/share/virtualenvs/mlops-zoomcamp-62aZbzDQ/lib/python3.9/site-packages/sqlalchemy/engine/base.py?line=1865'>1866</a>\u001b[0m \u001b[39mreturn\u001b[39;00m result\n",
      "File \u001b[0;32m~/.local/share/virtualenvs/mlops-zoomcamp-62aZbzDQ/lib/python3.9/site-packages/sqlalchemy/engine/base.py:2043\u001b[0m, in \u001b[0;36mConnection._handle_dbapi_exception\u001b[0;34m(self, e, statement, parameters, cursor, context)\u001b[0m\n\u001b[1;32m   <a href='file:///Users/abehsu/.local/share/virtualenvs/mlops-zoomcamp-62aZbzDQ/lib/python3.9/site-packages/sqlalchemy/engine/base.py?line=2041'>2042</a>\u001b[0m \u001b[39melif\u001b[39;00m should_wrap:\n\u001b[0;32m-> <a href='file:///Users/abehsu/.local/share/virtualenvs/mlops-zoomcamp-62aZbzDQ/lib/python3.9/site-packages/sqlalchemy/engine/base.py?line=2042'>2043</a>\u001b[0m     util\u001b[39m.\u001b[39;49mraise_(\n\u001b[1;32m   <a href='file:///Users/abehsu/.local/share/virtualenvs/mlops-zoomcamp-62aZbzDQ/lib/python3.9/site-packages/sqlalchemy/engine/base.py?line=2043'>2044</a>\u001b[0m         sqlalchemy_exception, with_traceback\u001b[39m=\u001b[39;49mexc_info[\u001b[39m2\u001b[39;49m], from_\u001b[39m=\u001b[39;49me\n\u001b[1;32m   <a href='file:///Users/abehsu/.local/share/virtualenvs/mlops-zoomcamp-62aZbzDQ/lib/python3.9/site-packages/sqlalchemy/engine/base.py?line=2044'>2045</a>\u001b[0m     )\n\u001b[1;32m   <a href='file:///Users/abehsu/.local/share/virtualenvs/mlops-zoomcamp-62aZbzDQ/lib/python3.9/site-packages/sqlalchemy/engine/base.py?line=2045'>2046</a>\u001b[0m \u001b[39melse\u001b[39;00m:\n",
      "File \u001b[0;32m~/.local/share/virtualenvs/mlops-zoomcamp-62aZbzDQ/lib/python3.9/site-packages/sqlalchemy/util/compat.py:207\u001b[0m, in \u001b[0;36mraise_\u001b[0;34m(***failed resolving arguments***)\u001b[0m\n\u001b[1;32m    <a href='file:///Users/abehsu/.local/share/virtualenvs/mlops-zoomcamp-62aZbzDQ/lib/python3.9/site-packages/sqlalchemy/util/compat.py?line=205'>206</a>\u001b[0m \u001b[39mtry\u001b[39;00m:\n\u001b[0;32m--> <a href='file:///Users/abehsu/.local/share/virtualenvs/mlops-zoomcamp-62aZbzDQ/lib/python3.9/site-packages/sqlalchemy/util/compat.py?line=206'>207</a>\u001b[0m     \u001b[39mraise\u001b[39;00m exception\n\u001b[1;32m    <a href='file:///Users/abehsu/.local/share/virtualenvs/mlops-zoomcamp-62aZbzDQ/lib/python3.9/site-packages/sqlalchemy/util/compat.py?line=207'>208</a>\u001b[0m \u001b[39mfinally\u001b[39;00m:\n\u001b[1;32m    <a href='file:///Users/abehsu/.local/share/virtualenvs/mlops-zoomcamp-62aZbzDQ/lib/python3.9/site-packages/sqlalchemy/util/compat.py?line=208'>209</a>\u001b[0m     \u001b[39m# credit to\u001b[39;00m\n\u001b[1;32m    <a href='file:///Users/abehsu/.local/share/virtualenvs/mlops-zoomcamp-62aZbzDQ/lib/python3.9/site-packages/sqlalchemy/util/compat.py?line=209'>210</a>\u001b[0m     \u001b[39m# https://cosmicpercolator.com/2016/01/13/exception-leaks-in-python-2-and-3/\u001b[39;00m\n\u001b[1;32m    <a href='file:///Users/abehsu/.local/share/virtualenvs/mlops-zoomcamp-62aZbzDQ/lib/python3.9/site-packages/sqlalchemy/util/compat.py?line=210'>211</a>\u001b[0m     \u001b[39m# as the __traceback__ object creates a cycle\u001b[39;00m\n",
      "File \u001b[0;32m~/.local/share/virtualenvs/mlops-zoomcamp-62aZbzDQ/lib/python3.9/site-packages/sqlalchemy/engine/base.py:1819\u001b[0m, in \u001b[0;36mConnection._execute_context\u001b[0;34m(self, dialect, constructor, statement, parameters, execution_options, *args, **kw)\u001b[0m\n\u001b[1;32m   <a href='file:///Users/abehsu/.local/share/virtualenvs/mlops-zoomcamp-62aZbzDQ/lib/python3.9/site-packages/sqlalchemy/engine/base.py?line=1817'>1818</a>\u001b[0m     \u001b[39mif\u001b[39;00m \u001b[39mnot\u001b[39;00m evt_handled:\n\u001b[0;32m-> <a href='file:///Users/abehsu/.local/share/virtualenvs/mlops-zoomcamp-62aZbzDQ/lib/python3.9/site-packages/sqlalchemy/engine/base.py?line=1818'>1819</a>\u001b[0m         \u001b[39mself\u001b[39;49m\u001b[39m.\u001b[39;49mdialect\u001b[39m.\u001b[39;49mdo_execute(\n\u001b[1;32m   <a href='file:///Users/abehsu/.local/share/virtualenvs/mlops-zoomcamp-62aZbzDQ/lib/python3.9/site-packages/sqlalchemy/engine/base.py?line=1819'>1820</a>\u001b[0m             cursor, statement, parameters, context\n\u001b[1;32m   <a href='file:///Users/abehsu/.local/share/virtualenvs/mlops-zoomcamp-62aZbzDQ/lib/python3.9/site-packages/sqlalchemy/engine/base.py?line=1820'>1821</a>\u001b[0m         )\n\u001b[1;32m   <a href='file:///Users/abehsu/.local/share/virtualenvs/mlops-zoomcamp-62aZbzDQ/lib/python3.9/site-packages/sqlalchemy/engine/base.py?line=1822'>1823</a>\u001b[0m \u001b[39mif\u001b[39;00m \u001b[39mself\u001b[39m\u001b[39m.\u001b[39m_has_events \u001b[39mor\u001b[39;00m \u001b[39mself\u001b[39m\u001b[39m.\u001b[39mengine\u001b[39m.\u001b[39m_has_events:\n",
      "File \u001b[0;32m~/.local/share/virtualenvs/mlops-zoomcamp-62aZbzDQ/lib/python3.9/site-packages/sqlalchemy/engine/default.py:732\u001b[0m, in \u001b[0;36mDefaultDialect.do_execute\u001b[0;34m(self, cursor, statement, parameters, context)\u001b[0m\n\u001b[1;32m    <a href='file:///Users/abehsu/.local/share/virtualenvs/mlops-zoomcamp-62aZbzDQ/lib/python3.9/site-packages/sqlalchemy/engine/default.py?line=730'>731</a>\u001b[0m \u001b[39mdef\u001b[39;00m \u001b[39mdo_execute\u001b[39m(\u001b[39mself\u001b[39m, cursor, statement, parameters, context\u001b[39m=\u001b[39m\u001b[39mNone\u001b[39;00m):\n\u001b[0;32m--> <a href='file:///Users/abehsu/.local/share/virtualenvs/mlops-zoomcamp-62aZbzDQ/lib/python3.9/site-packages/sqlalchemy/engine/default.py?line=731'>732</a>\u001b[0m     cursor\u001b[39m.\u001b[39;49mexecute(statement, parameters)\n",
      "\u001b[0;31mIntegrityError\u001b[0m: (raised as a result of Query-invoked autoflush; consider using a session.no_autoflush block if this flush is occurring prematurely)\n(sqlite3.IntegrityError) UNIQUE constraint failed: experiments.name\n[SQL: INSERT INTO experiments (name, artifact_location, lifecycle_stage) VALUES (?, ?, ?)]\n[parameters: ('my-cool-experiment', None, 'active')]\n(Background on this error at: https://sqlalche.me/e/14/gkpj)",
      "\nDuring handling of the above exception, another exception occurred:\n",
      "\u001b[0;31mMlflowException\u001b[0m                           Traceback (most recent call last)",
      "\u001b[1;32m/Users/abehsu/mlops-zoomcamp/02-experiment-tracking_hw/homework/test.ipynb Cell 3'\u001b[0m in \u001b[0;36m<cell line: 1>\u001b[0;34m()\u001b[0m\n\u001b[0;32m----> <a href='vscode-notebook-cell:/Users/abehsu/mlops-zoomcamp/02-experiment-tracking_hw/homework/test.ipynb#ch0000002?line=0'>1</a>\u001b[0m client\u001b[39m.\u001b[39;49mcreate_experiment(name\u001b[39m=\u001b[39;49m\u001b[39m\"\u001b[39;49m\u001b[39mmy-cool-experiment\u001b[39;49m\u001b[39m\"\u001b[39;49m)\n",
      "File \u001b[0;32m~/.local/share/virtualenvs/mlops-zoomcamp-62aZbzDQ/lib/python3.9/site-packages/mlflow/tracking/client.py:507\u001b[0m, in \u001b[0;36mMlflowClient.create_experiment\u001b[0;34m(self, name, artifact_location, tags)\u001b[0m\n\u001b[1;32m    <a href='file:///Users/abehsu/.local/share/virtualenvs/mlops-zoomcamp-62aZbzDQ/lib/python3.9/site-packages/mlflow/tracking/client.py?line=463'>464</a>\u001b[0m \u001b[39mdef\u001b[39;00m \u001b[39mcreate_experiment\u001b[39m(\n\u001b[1;32m    <a href='file:///Users/abehsu/.local/share/virtualenvs/mlops-zoomcamp-62aZbzDQ/lib/python3.9/site-packages/mlflow/tracking/client.py?line=464'>465</a>\u001b[0m     \u001b[39mself\u001b[39m,\n\u001b[1;32m    <a href='file:///Users/abehsu/.local/share/virtualenvs/mlops-zoomcamp-62aZbzDQ/lib/python3.9/site-packages/mlflow/tracking/client.py?line=465'>466</a>\u001b[0m     name: \u001b[39mstr\u001b[39m,\n\u001b[1;32m    <a href='file:///Users/abehsu/.local/share/virtualenvs/mlops-zoomcamp-62aZbzDQ/lib/python3.9/site-packages/mlflow/tracking/client.py?line=466'>467</a>\u001b[0m     artifact_location: Optional[\u001b[39mstr\u001b[39m] \u001b[39m=\u001b[39m \u001b[39mNone\u001b[39;00m,\n\u001b[1;32m    <a href='file:///Users/abehsu/.local/share/virtualenvs/mlops-zoomcamp-62aZbzDQ/lib/python3.9/site-packages/mlflow/tracking/client.py?line=467'>468</a>\u001b[0m     tags: Optional[Dict[\u001b[39mstr\u001b[39m, Any]] \u001b[39m=\u001b[39m \u001b[39mNone\u001b[39;00m,\n\u001b[1;32m    <a href='file:///Users/abehsu/.local/share/virtualenvs/mlops-zoomcamp-62aZbzDQ/lib/python3.9/site-packages/mlflow/tracking/client.py?line=468'>469</a>\u001b[0m ) \u001b[39m-\u001b[39m\u001b[39m>\u001b[39m \u001b[39mstr\u001b[39m:\n\u001b[1;32m    <a href='file:///Users/abehsu/.local/share/virtualenvs/mlops-zoomcamp-62aZbzDQ/lib/python3.9/site-packages/mlflow/tracking/client.py?line=469'>470</a>\u001b[0m     \u001b[39m\"\"\"Create an experiment.\u001b[39;00m\n\u001b[1;32m    <a href='file:///Users/abehsu/.local/share/virtualenvs/mlops-zoomcamp-62aZbzDQ/lib/python3.9/site-packages/mlflow/tracking/client.py?line=470'>471</a>\u001b[0m \n\u001b[1;32m    <a href='file:///Users/abehsu/.local/share/virtualenvs/mlops-zoomcamp-62aZbzDQ/lib/python3.9/site-packages/mlflow/tracking/client.py?line=471'>472</a>\u001b[0m \u001b[39m    :param name: The experiment name. Must be unique.\u001b[39;00m\n\u001b[0;32m   (...)\u001b[0m\n\u001b[1;32m    <a href='file:///Users/abehsu/.local/share/virtualenvs/mlops-zoomcamp-62aZbzDQ/lib/python3.9/site-packages/mlflow/tracking/client.py?line=504'>505</a>\u001b[0m \u001b[39m        Lifecycle_stage: active\u001b[39;00m\n\u001b[1;32m    <a href='file:///Users/abehsu/.local/share/virtualenvs/mlops-zoomcamp-62aZbzDQ/lib/python3.9/site-packages/mlflow/tracking/client.py?line=505'>506</a>\u001b[0m \u001b[39m    \"\"\"\u001b[39;00m\n\u001b[0;32m--> <a href='file:///Users/abehsu/.local/share/virtualenvs/mlops-zoomcamp-62aZbzDQ/lib/python3.9/site-packages/mlflow/tracking/client.py?line=506'>507</a>\u001b[0m     \u001b[39mreturn\u001b[39;00m \u001b[39mself\u001b[39;49m\u001b[39m.\u001b[39;49m_tracking_client\u001b[39m.\u001b[39;49mcreate_experiment(name, artifact_location, tags)\n",
      "File \u001b[0;32m~/.local/share/virtualenvs/mlops-zoomcamp-62aZbzDQ/lib/python3.9/site-packages/mlflow/tracking/_tracking_service/client.py:176\u001b[0m, in \u001b[0;36mTrackingServiceClient.create_experiment\u001b[0;34m(self, name, artifact_location, tags)\u001b[0m\n\u001b[1;32m    <a href='file:///Users/abehsu/.local/share/virtualenvs/mlops-zoomcamp-62aZbzDQ/lib/python3.9/site-packages/mlflow/tracking/_tracking_service/client.py?line=164'>165</a>\u001b[0m \u001b[39m\"\"\"Create an experiment.\u001b[39;00m\n\u001b[1;32m    <a href='file:///Users/abehsu/.local/share/virtualenvs/mlops-zoomcamp-62aZbzDQ/lib/python3.9/site-packages/mlflow/tracking/_tracking_service/client.py?line=165'>166</a>\u001b[0m \n\u001b[1;32m    <a href='file:///Users/abehsu/.local/share/virtualenvs/mlops-zoomcamp-62aZbzDQ/lib/python3.9/site-packages/mlflow/tracking/_tracking_service/client.py?line=166'>167</a>\u001b[0m \u001b[39m:param name: The experiment name. Must be unique.\u001b[39;00m\n\u001b[0;32m   (...)\u001b[0m\n\u001b[1;32m    <a href='file:///Users/abehsu/.local/share/virtualenvs/mlops-zoomcamp-62aZbzDQ/lib/python3.9/site-packages/mlflow/tracking/_tracking_service/client.py?line=171'>172</a>\u001b[0m \u001b[39m:return: Integer ID of the created experiment.\u001b[39;00m\n\u001b[1;32m    <a href='file:///Users/abehsu/.local/share/virtualenvs/mlops-zoomcamp-62aZbzDQ/lib/python3.9/site-packages/mlflow/tracking/_tracking_service/client.py?line=172'>173</a>\u001b[0m \u001b[39m\"\"\"\u001b[39;00m\n\u001b[1;32m    <a href='file:///Users/abehsu/.local/share/virtualenvs/mlops-zoomcamp-62aZbzDQ/lib/python3.9/site-packages/mlflow/tracking/_tracking_service/client.py?line=173'>174</a>\u001b[0m _validate_experiment_artifact_location(artifact_location)\n\u001b[0;32m--> <a href='file:///Users/abehsu/.local/share/virtualenvs/mlops-zoomcamp-62aZbzDQ/lib/python3.9/site-packages/mlflow/tracking/_tracking_service/client.py?line=175'>176</a>\u001b[0m \u001b[39mreturn\u001b[39;00m \u001b[39mself\u001b[39;49m\u001b[39m.\u001b[39;49mstore\u001b[39m.\u001b[39;49mcreate_experiment(\n\u001b[1;32m    <a href='file:///Users/abehsu/.local/share/virtualenvs/mlops-zoomcamp-62aZbzDQ/lib/python3.9/site-packages/mlflow/tracking/_tracking_service/client.py?line=176'>177</a>\u001b[0m     name\u001b[39m=\u001b[39;49mname,\n\u001b[1;32m    <a href='file:///Users/abehsu/.local/share/virtualenvs/mlops-zoomcamp-62aZbzDQ/lib/python3.9/site-packages/mlflow/tracking/_tracking_service/client.py?line=177'>178</a>\u001b[0m     artifact_location\u001b[39m=\u001b[39;49martifact_location,\n\u001b[1;32m    <a href='file:///Users/abehsu/.local/share/virtualenvs/mlops-zoomcamp-62aZbzDQ/lib/python3.9/site-packages/mlflow/tracking/_tracking_service/client.py?line=178'>179</a>\u001b[0m     tags\u001b[39m=\u001b[39;49m[ExperimentTag(key, value) \u001b[39mfor\u001b[39;49;00m (key, value) \u001b[39min\u001b[39;49;00m tags\u001b[39m.\u001b[39;49mitems()] \u001b[39mif\u001b[39;49;00m tags \u001b[39melse\u001b[39;49;00m [],\n\u001b[1;32m    <a href='file:///Users/abehsu/.local/share/virtualenvs/mlops-zoomcamp-62aZbzDQ/lib/python3.9/site-packages/mlflow/tracking/_tracking_service/client.py?line=179'>180</a>\u001b[0m )\n",
      "File \u001b[0;32m~/.local/share/virtualenvs/mlops-zoomcamp-62aZbzDQ/lib/python3.9/site-packages/mlflow/store/tracking/sqlalchemy_store.py:254\u001b[0m, in \u001b[0;36mSqlAlchemyStore.create_experiment\u001b[0;34m(self, name, artifact_location, tags)\u001b[0m\n\u001b[1;32m    <a href='file:///Users/abehsu/.local/share/virtualenvs/mlops-zoomcamp-62aZbzDQ/lib/python3.9/site-packages/mlflow/store/tracking/sqlalchemy_store.py?line=251'>252</a>\u001b[0m         experiment\u001b[39m.\u001b[39martifact_location \u001b[39m=\u001b[39m \u001b[39mself\u001b[39m\u001b[39m.\u001b[39m_get_artifact_location(eid)\n\u001b[1;32m    <a href='file:///Users/abehsu/.local/share/virtualenvs/mlops-zoomcamp-62aZbzDQ/lib/python3.9/site-packages/mlflow/store/tracking/sqlalchemy_store.py?line=252'>253</a>\u001b[0m \u001b[39mexcept\u001b[39;00m sqlalchemy\u001b[39m.\u001b[39mexc\u001b[39m.\u001b[39mIntegrityError \u001b[39mas\u001b[39;00m e:\n\u001b[0;32m--> <a href='file:///Users/abehsu/.local/share/virtualenvs/mlops-zoomcamp-62aZbzDQ/lib/python3.9/site-packages/mlflow/store/tracking/sqlalchemy_store.py?line=253'>254</a>\u001b[0m     \u001b[39mraise\u001b[39;00m MlflowException(\n\u001b[1;32m    <a href='file:///Users/abehsu/.local/share/virtualenvs/mlops-zoomcamp-62aZbzDQ/lib/python3.9/site-packages/mlflow/store/tracking/sqlalchemy_store.py?line=254'>255</a>\u001b[0m         \u001b[39m\"\u001b[39m\u001b[39mExperiment(name=\u001b[39m\u001b[39m{}\u001b[39;00m\u001b[39m) already exists. Error: \u001b[39m\u001b[39m{}\u001b[39;00m\u001b[39m\"\u001b[39m\u001b[39m.\u001b[39mformat(name, \u001b[39mstr\u001b[39m(e)),\n\u001b[1;32m    <a href='file:///Users/abehsu/.local/share/virtualenvs/mlops-zoomcamp-62aZbzDQ/lib/python3.9/site-packages/mlflow/store/tracking/sqlalchemy_store.py?line=255'>256</a>\u001b[0m         RESOURCE_ALREADY_EXISTS,\n\u001b[1;32m    <a href='file:///Users/abehsu/.local/share/virtualenvs/mlops-zoomcamp-62aZbzDQ/lib/python3.9/site-packages/mlflow/store/tracking/sqlalchemy_store.py?line=256'>257</a>\u001b[0m     )\n\u001b[1;32m    <a href='file:///Users/abehsu/.local/share/virtualenvs/mlops-zoomcamp-62aZbzDQ/lib/python3.9/site-packages/mlflow/store/tracking/sqlalchemy_store.py?line=258'>259</a>\u001b[0m session\u001b[39m.\u001b[39mflush()\n\u001b[1;32m    <a href='file:///Users/abehsu/.local/share/virtualenvs/mlops-zoomcamp-62aZbzDQ/lib/python3.9/site-packages/mlflow/store/tracking/sqlalchemy_store.py?line=259'>260</a>\u001b[0m \u001b[39mreturn\u001b[39;00m \u001b[39mstr\u001b[39m(experiment\u001b[39m.\u001b[39mexperiment_id)\n",
      "\u001b[0;31mMlflowException\u001b[0m: Experiment(name=my-cool-experiment) already exists. Error: (raised as a result of Query-invoked autoflush; consider using a session.no_autoflush block if this flush is occurring prematurely)\n(sqlite3.IntegrityError) UNIQUE constraint failed: experiments.name\n[SQL: INSERT INTO experiments (name, artifact_location, lifecycle_stage) VALUES (?, ?, ?)]\n[parameters: ('my-cool-experiment', None, 'active')]\n(Background on this error at: https://sqlalche.me/e/14/gkpj)"
     ]
    }
   ],
   "source": [
    "client.create_experiment(name=\"my-cool-experiment\")"
   ]
  },
  {
   "cell_type": "code",
   "execution_count": null,
   "metadata": {},
   "outputs": [],
   "source": [
    "from mlflow.entities import ViewType\n",
    "\n",
    "runs = client.search_runs(\n",
    "    experiment_ids='2',\n",
    "    filter_string=\"metrics.rmse < 6.8\",\n",
    "    run_view_type=ViewType.ACTIVE_ONLY,\n",
    "    max_results=5,\n",
    "    order_by=[\"metrics.rmse ASC\"]\n",
    ")"
   ]
  },
  {
   "cell_type": "code",
   "execution_count": null,
   "metadata": {},
   "outputs": [
    {
     "name": "stdout",
     "output_type": "stream",
     "text": [
      "run id: 013ed19c4b7449e492fbdd2f8492137d, rmse: 6.6284\n",
      "run id: ff5568e6318749779db178f43b3152a0, rmse: 6.6297\n",
      "run id: 2f93892ad2c844e9af449c608d205ec1, rmse: 6.6299\n",
      "run id: 6adcf110dc264106a273c4bce84d1fa2, rmse: 6.6299\n",
      "run id: 2fe0f89107564e2199b1e821bd46d2c0, rmse: 6.6299\n"
     ]
    }
   ],
   "source": [
    "for run in runs:\n",
    "    print(f\"run id: {run.info.run_id}, rmse: {run.data.metrics['rmse']:.4f}\")"
   ]
  },
  {
   "cell_type": "code",
   "execution_count": null,
   "metadata": {},
   "outputs": [],
   "source": [
    "import mlflow\n",
    "mlflow.set_tracking_uri(\"http://127.0.0.1:5001\")"
   ]
  },
  {
   "cell_type": "code",
   "execution_count": null,
   "metadata": {},
   "outputs": [
    {
     "name": "stderr",
     "output_type": "stream",
     "text": [
      "Registered model 'just_test' already exists. Creating a new version of this model...\n",
      "2022/05/30 11:15:16 INFO mlflow.tracking._model_registry.client: Waiting up to 300 seconds for model version to finish creation.                     Model name: just_test, version 2\n",
      "Created version '2' of model 'just_test'.\n"
     ]
    },
    {
     "data": {
      "text/plain": [
       "<ModelVersion: creation_timestamp=1653930916951, current_stage='None', description='', last_updated_timestamp=1653930916951, name='just_test', run_id='013ed19c4b7449e492fbdd2f8492137d', run_link='', source='./mlruns/2/013ed19c4b7449e492fbdd2f8492137d/artifacts/model', status='READY', status_message='', tags={}, user_id='', version='2'>"
      ]
     },
     "execution_count": 14,
     "metadata": {},
     "output_type": "execute_result"
    }
   ],
   "source": [
    "run_id=\"013ed19c4b7449e492fbdd2f8492137d\"\n",
    "model_uri = f\"runs:/{run_id}/model\"\n",
    "mlflow.register_model(\n",
    "    model_uri=model_uri,\n",
    "    name=\"just_test\"\n",
    ")"
   ]
  },
  {
   "cell_type": "code",
   "execution_count": null,
   "metadata": {},
   "outputs": [
    {
     "data": {
      "text/plain": [
       "[<RegisteredModel: creation_timestamp=1653930991552, description='', last_updated_timestamp=1653930991552, latest_versions=[], name='hw', tags={}>,\n",
       " <RegisteredModel: creation_timestamp=1653927408668, description='', last_updated_timestamp=1653930916951, latest_versions=[<ModelVersion: creation_timestamp=1653927408708, current_stage='Archived', description='', last_updated_timestamp=1653929758711, name='just_test', run_id='aba9236df3754605bbf53c41afd08848', run_link='', source='./mlruns/1/aba9236df3754605bbf53c41afd08848/artifacts/model', status='READY', status_message=None, tags={'model': 'sklearn'}, user_id=None, version=1>,\n",
       "  <ModelVersion: creation_timestamp=1653930916951, current_stage='None', description='', last_updated_timestamp=1653930916951, name='just_test', run_id='013ed19c4b7449e492fbdd2f8492137d', run_link='', source='./mlruns/2/013ed19c4b7449e492fbdd2f8492137d/artifacts/model', status='READY', status_message=None, tags={}, user_id=None, version=2>], name='just_test', tags={}>,\n",
       " <RegisteredModel: creation_timestamp=1653931019067, description='', last_updated_timestamp=1653931019067, latest_versions=[], name='random-forest-models', tags={}>]"
      ]
     },
     "execution_count": 15,
     "metadata": {},
     "output_type": "execute_result"
    }
   ],
   "source": [
    "client.list_registered_models()"
   ]
  },
  {
   "cell_type": "code",
   "execution_count": null,
   "metadata": {},
   "outputs": [
    {
     "name": "stdout",
     "output_type": "stream",
     "text": [
      "version: 1, stage: Archived\n",
      "version: 2, stage: Staging\n"
     ]
    }
   ],
   "source": [
    "model_name=\"just_test\"\n",
    "latest_versions = client.get_latest_versions(name=model_name)\n",
    "\n",
    "for version in latest_versions:\n",
    "    print(f\"version: {version.version}, stage: {version.current_stage}\")"
   ]
  },
  {
   "cell_type": "code",
   "execution_count": null,
   "metadata": {},
   "outputs": [
    {
     "data": {
      "text/plain": [
       "<ModelVersion: creation_timestamp=1653930916951, current_stage='Staging', description='', last_updated_timestamp=1653931238030, name='just_test', run_id='013ed19c4b7449e492fbdd2f8492137d', run_link='', source='./mlruns/2/013ed19c4b7449e492fbdd2f8492137d/artifacts/model', status='READY', status_message=None, tags={}, user_id=None, version=2>"
      ]
     },
     "execution_count": 18,
     "metadata": {},
     "output_type": "execute_result"
    }
   ],
   "source": [
    "client.transition_model_version_stage(\n",
    "    name = model_name,\n",
    "    version=2,\n",
    "    stage=\"Staging\",\n",
    "    archive_existing_versions=False\n",
    ")"
   ]
  },
  {
   "cell_type": "code",
   "execution_count": 29,
   "metadata": {},
   "outputs": [],
   "source": [
    "best_run = client.search_runs(\n",
    "    experiment_ids=\"4\",\n",
    "    filter_string=\"\"\n",
    ")"
   ]
  },
  {
   "cell_type": "code",
   "execution_count": 30,
   "metadata": {},
   "outputs": [
    {
     "data": {
      "text/plain": [
       "[<Run: data=<RunData: metrics={'test_rmse': 6.548852722401935,\n",
       "  'training_mae': 3.7776220690634528,\n",
       "  'training_mse': 30.58526647604336,\n",
       "  'training_r2_score': 0.771248028190807,\n",
       "  'training_rmse': 5.530394784827152,\n",
       "  'training_score': 0.771248028190807,\n",
       "  'valid_rmse': 6.629893219637507}, params={'bootstrap': 'True',\n",
       "  'ccp_alpha': '0.0',\n",
       "  'criterion': 'squared_error',\n",
       "  'max_depth': '20',\n",
       "  'max_features': '1.0',\n",
       "  'max_leaf_nodes': 'None',\n",
       "  'max_samples': 'None',\n",
       "  'min_impurity_decrease': '0.0',\n",
       "  'min_samples_leaf': '2',\n",
       "  'min_samples_split': '2',\n",
       "  'min_weight_fraction_leaf': '0.0',\n",
       "  'n_estimators': '25',\n",
       "  'n_jobs': 'None',\n",
       "  'oob_score': 'False',\n",
       "  'random_state': '42',\n",
       "  'verbose': '0',\n",
       "  'warm_start': 'False'}, tags={'estimator_class': 'sklearn.ensemble._forest.RandomForestRegressor',\n",
       "  'estimator_name': 'RandomForestRegressor',\n",
       "  'mlflow.log-model.history': '[{\"run_id\": \"e3db6ad9799644a8b6124e10a5bd3f99\", '\n",
       "                              '\"artifact_path\": \"model\", \"utc_time_created\": '\n",
       "                              '\"2022-05-30 17:18:38.134026\", \"flavors\": '\n",
       "                              '{\"python_function\": {\"model_path\": \"model.pkl\", '\n",
       "                              '\"loader_module\": \"mlflow.sklearn\", '\n",
       "                              '\"python_version\": \"3.9.5\", \"env\": \"conda.yaml\"}, '\n",
       "                              '\"sklearn\": {\"pickled_model\": \"model.pkl\", '\n",
       "                              '\"sklearn_version\": \"1.1.1\", '\n",
       "                              '\"serialization_format\": \"cloudpickle\", \"code\": '\n",
       "                              'null}}, \"model_uuid\": '\n",
       "                              '\"10ed46b7622c44238b26de906a178ec6\", '\n",
       "                              '\"mlflow_version\": \"1.26.1\", \"signature\": '\n",
       "                              '{\"inputs\": \"[{\\\\\"type\\\\\": \\\\\"tensor\\\\\", '\n",
       "                              '\\\\\"tensor-spec\\\\\": {\\\\\"dtype\\\\\": \\\\\"float64\\\\\", '\n",
       "                              '\\\\\"shape\\\\\": [-1, 13221]}}]\", \"outputs\": '\n",
       "                              '\"[{\\\\\"type\\\\\": \\\\\"tensor\\\\\", \\\\\"tensor-spec\\\\\": '\n",
       "                              '{\\\\\"dtype\\\\\": \\\\\"float64\\\\\", \\\\\"shape\\\\\": '\n",
       "                              '[-1]}}]\"}}]',\n",
       "  'mlflow.source.git.commit': 'cd2b4287446c539fe1b40e3544b76ade77e9d4fd',\n",
       "  'mlflow.source.name': './homework/register_model.py',\n",
       "  'mlflow.source.type': 'LOCAL',\n",
       "  'mlflow.user': 'abehsu'}>, info=<RunInfo: artifact_uri='./mlruns/4/e3db6ad9799644a8b6124e10a5bd3f99/artifacts', end_time=1653931121210, experiment_id='4', lifecycle_stage='active', run_id='e3db6ad9799644a8b6124e10a5bd3f99', run_uuid='e3db6ad9799644a8b6124e10a5bd3f99', start_time=1653931105561, status='FINISHED', user_id='abehsu'>>,\n",
       " <Run: data=<RunData: metrics={'test_rmse': 6.549081827157288,\n",
       "  'training_mae': 3.7770678522029084,\n",
       "  'training_mse': 30.58215535939286,\n",
       "  'training_r2_score': 0.7712712967168107,\n",
       "  'training_rmse': 5.530113503301073,\n",
       "  'training_score': 0.7712712967168107,\n",
       "  'valid_rmse': 6.629851022038263}, params={'bootstrap': 'True',\n",
       "  'ccp_alpha': '0.0',\n",
       "  'criterion': 'squared_error',\n",
       "  'max_depth': '20',\n",
       "  'max_features': '1.0',\n",
       "  'max_leaf_nodes': 'None',\n",
       "  'max_samples': 'None',\n",
       "  'min_impurity_decrease': '0.0',\n",
       "  'min_samples_leaf': '2',\n",
       "  'min_samples_split': '2',\n",
       "  'min_weight_fraction_leaf': '0.0',\n",
       "  'n_estimators': '33',\n",
       "  'n_jobs': 'None',\n",
       "  'oob_score': 'False',\n",
       "  'random_state': '42',\n",
       "  'verbose': '0',\n",
       "  'warm_start': 'False'}, tags={'estimator_class': 'sklearn.ensemble._forest.RandomForestRegressor',\n",
       "  'estimator_name': 'RandomForestRegressor',\n",
       "  'mlflow.log-model.history': '[{\"run_id\": \"930aa4df3397471aa051fde7cebd6c3c\", '\n",
       "                              '\"artifact_path\": \"model\", \"utc_time_created\": '\n",
       "                              '\"2022-05-30 17:18:22.039720\", \"flavors\": '\n",
       "                              '{\"python_function\": {\"model_path\": \"model.pkl\", '\n",
       "                              '\"loader_module\": \"mlflow.sklearn\", '\n",
       "                              '\"python_version\": \"3.9.5\", \"env\": \"conda.yaml\"}, '\n",
       "                              '\"sklearn\": {\"pickled_model\": \"model.pkl\", '\n",
       "                              '\"sklearn_version\": \"1.1.1\", '\n",
       "                              '\"serialization_format\": \"cloudpickle\", \"code\": '\n",
       "                              'null}}, \"model_uuid\": '\n",
       "                              '\"1b3287597a324255b8d77ddf40a572e5\", '\n",
       "                              '\"mlflow_version\": \"1.26.1\", \"signature\": '\n",
       "                              '{\"inputs\": \"[{\\\\\"type\\\\\": \\\\\"tensor\\\\\", '\n",
       "                              '\\\\\"tensor-spec\\\\\": {\\\\\"dtype\\\\\": \\\\\"float64\\\\\", '\n",
       "                              '\\\\\"shape\\\\\": [-1, 13221]}}]\", \"outputs\": '\n",
       "                              '\"[{\\\\\"type\\\\\": \\\\\"tensor\\\\\", \\\\\"tensor-spec\\\\\": '\n",
       "                              '{\\\\\"dtype\\\\\": \\\\\"float64\\\\\", \\\\\"shape\\\\\": '\n",
       "                              '[-1]}}]\"}}]',\n",
       "  'mlflow.source.git.commit': 'cd2b4287446c539fe1b40e3544b76ade77e9d4fd',\n",
       "  'mlflow.source.name': './homework/register_model.py',\n",
       "  'mlflow.source.type': 'LOCAL',\n",
       "  'mlflow.user': 'abehsu'}>, info=<RunInfo: artifact_uri='./mlruns/4/930aa4df3397471aa051fde7cebd6c3c/artifacts', end_time=1653931105531, experiment_id='4', lifecycle_stage='active', run_id='930aa4df3397471aa051fde7cebd6c3c', run_uuid='930aa4df3397471aa051fde7cebd6c3c', start_time=1653931085808, status='FINISHED', user_id='abehsu'>>,\n",
       " <Run: data=<RunData: metrics={'test_rmse': 6.549081827157288,\n",
       "  'training_mae': 3.7770678522029084,\n",
       "  'training_mse': 30.58215535939286,\n",
       "  'training_r2_score': 0.7712712967168107,\n",
       "  'training_rmse': 5.530113503301073,\n",
       "  'training_score': 0.7712712967168107,\n",
       "  'valid_rmse': 6.629851022038263}, params={'bootstrap': 'True',\n",
       "  'ccp_alpha': '0.0',\n",
       "  'criterion': 'squared_error',\n",
       "  'max_depth': '20',\n",
       "  'max_features': '1.0',\n",
       "  'max_leaf_nodes': 'None',\n",
       "  'max_samples': 'None',\n",
       "  'min_impurity_decrease': '0.0',\n",
       "  'min_samples_leaf': '2',\n",
       "  'min_samples_split': '4',\n",
       "  'min_weight_fraction_leaf': '0.0',\n",
       "  'n_estimators': '33',\n",
       "  'n_jobs': 'None',\n",
       "  'oob_score': 'False',\n",
       "  'random_state': '42',\n",
       "  'verbose': '0',\n",
       "  'warm_start': 'False'}, tags={'estimator_class': 'sklearn.ensemble._forest.RandomForestRegressor',\n",
       "  'estimator_name': 'RandomForestRegressor',\n",
       "  'mlflow.log-model.history': '[{\"run_id\": \"e68adee5bf3c4ee5a4267e673f203962\", '\n",
       "                              '\"artifact_path\": \"model\", \"utc_time_created\": '\n",
       "                              '\"2022-05-30 17:18:02.479278\", \"flavors\": '\n",
       "                              '{\"python_function\": {\"model_path\": \"model.pkl\", '\n",
       "                              '\"loader_module\": \"mlflow.sklearn\", '\n",
       "                              '\"python_version\": \"3.9.5\", \"env\": \"conda.yaml\"}, '\n",
       "                              '\"sklearn\": {\"pickled_model\": \"model.pkl\", '\n",
       "                              '\"sklearn_version\": \"1.1.1\", '\n",
       "                              '\"serialization_format\": \"cloudpickle\", \"code\": '\n",
       "                              'null}}, \"model_uuid\": '\n",
       "                              '\"246c07d44b6248a2acbb090486fd99a8\", '\n",
       "                              '\"mlflow_version\": \"1.26.1\", \"signature\": '\n",
       "                              '{\"inputs\": \"[{\\\\\"type\\\\\": \\\\\"tensor\\\\\", '\n",
       "                              '\\\\\"tensor-spec\\\\\": {\\\\\"dtype\\\\\": \\\\\"float64\\\\\", '\n",
       "                              '\\\\\"shape\\\\\": [-1, 13221]}}]\", \"outputs\": '\n",
       "                              '\"[{\\\\\"type\\\\\": \\\\\"tensor\\\\\", \\\\\"tensor-spec\\\\\": '\n",
       "                              '{\\\\\"dtype\\\\\": \\\\\"float64\\\\\", \\\\\"shape\\\\\": '\n",
       "                              '[-1]}}]\"}}]',\n",
       "  'mlflow.source.git.commit': 'cd2b4287446c539fe1b40e3544b76ade77e9d4fd',\n",
       "  'mlflow.source.name': './homework/register_model.py',\n",
       "  'mlflow.source.type': 'LOCAL',\n",
       "  'mlflow.user': 'abehsu'}>, info=<RunInfo: artifact_uri='./mlruns/4/e68adee5bf3c4ee5a4267e673f203962/artifacts', end_time=1653931085775, experiment_id='4', lifecycle_stage='active', run_id='e68adee5bf3c4ee5a4267e673f203962', run_uuid='e68adee5bf3c4ee5a4267e673f203962', start_time=1653931066056, status='FINISHED', user_id='abehsu'>>,\n",
       " <Run: data=<RunData: metrics={'test_rmse': 6.549816636724069,\n",
       "  'training_mae': 3.7785117890805413,\n",
       "  'training_mse': 30.60450474365528,\n",
       "  'training_r2_score': 0.7711041421908643,\n",
       "  'training_rmse': 5.532133832767903,\n",
       "  'training_score': 0.7711041421908643,\n",
       "  'valid_rmse': 6.629728007710133}, params={'bootstrap': 'True',\n",
       "  'ccp_alpha': '0.0',\n",
       "  'criterion': 'squared_error',\n",
       "  'max_depth': '20',\n",
       "  'max_features': '1.0',\n",
       "  'max_leaf_nodes': 'None',\n",
       "  'max_samples': 'None',\n",
       "  'min_impurity_decrease': '0.0',\n",
       "  'min_samples_leaf': '2',\n",
       "  'min_samples_split': '3',\n",
       "  'min_weight_fraction_leaf': '0.0',\n",
       "  'n_estimators': '23',\n",
       "  'n_jobs': 'None',\n",
       "  'oob_score': 'False',\n",
       "  'random_state': '42',\n",
       "  'verbose': '0',\n",
       "  'warm_start': 'False'}, tags={'estimator_class': 'sklearn.ensemble._forest.RandomForestRegressor',\n",
       "  'estimator_name': 'RandomForestRegressor',\n",
       "  'mlflow.log-model.history': '[{\"run_id\": \"4170acb808774ab0b8146d6313882cd7\", '\n",
       "                              '\"artifact_path\": \"model\", \"utc_time_created\": '\n",
       "                              '\"2022-05-30 17:17:43.198790\", \"flavors\": '\n",
       "                              '{\"python_function\": {\"model_path\": \"model.pkl\", '\n",
       "                              '\"loader_module\": \"mlflow.sklearn\", '\n",
       "                              '\"python_version\": \"3.9.5\", \"env\": \"conda.yaml\"}, '\n",
       "                              '\"sklearn\": {\"pickled_model\": \"model.pkl\", '\n",
       "                              '\"sklearn_version\": \"1.1.1\", '\n",
       "                              '\"serialization_format\": \"cloudpickle\", \"code\": '\n",
       "                              'null}}, \"model_uuid\": '\n",
       "                              '\"a40eba35756946f18d1d740d9f53c9a3\", '\n",
       "                              '\"mlflow_version\": \"1.26.1\", \"signature\": '\n",
       "                              '{\"inputs\": \"[{\\\\\"type\\\\\": \\\\\"tensor\\\\\", '\n",
       "                              '\\\\\"tensor-spec\\\\\": {\\\\\"dtype\\\\\": \\\\\"float64\\\\\", '\n",
       "                              '\\\\\"shape\\\\\": [-1, 13221]}}]\", \"outputs\": '\n",
       "                              '\"[{\\\\\"type\\\\\": \\\\\"tensor\\\\\", \\\\\"tensor-spec\\\\\": '\n",
       "                              '{\\\\\"dtype\\\\\": \\\\\"float64\\\\\", \\\\\"shape\\\\\": '\n",
       "                              '[-1]}}]\"}}]',\n",
       "  'mlflow.source.git.commit': 'cd2b4287446c539fe1b40e3544b76ade77e9d4fd',\n",
       "  'mlflow.source.name': './homework/register_model.py',\n",
       "  'mlflow.source.type': 'LOCAL',\n",
       "  'mlflow.user': 'abehsu'}>, info=<RunInfo: artifact_uri='./mlruns/4/4170acb808774ab0b8146d6313882cd7/artifacts', end_time=1653931066032, experiment_id='4', lifecycle_stage='active', run_id='4170acb808774ab0b8146d6313882cd7', run_uuid='4170acb808774ab0b8146d6313882cd7', start_time=1653931052333, status='FINISHED', user_id='abehsu'>>,\n",
       " <Run: data=<RunData: metrics={'test_rmse': 6.547886185595423,\n",
       "  'training_mae': 3.7900404294512096,\n",
       "  'training_mse': 31.131050948533428,\n",
       "  'training_r2_score': 0.7671660211119171,\n",
       "  'training_rmse': 5.579520673725784,\n",
       "  'training_score': 0.7671660211119171,\n",
       "  'valid_rmse': 6.6284257482044735}, params={'bootstrap': 'True',\n",
       "  'ccp_alpha': '0.0',\n",
       "  'criterion': 'squared_error',\n",
       "  'max_depth': '19',\n",
       "  'max_features': '1.0',\n",
       "  'max_leaf_nodes': 'None',\n",
       "  'max_samples': 'None',\n",
       "  'min_impurity_decrease': '0.0',\n",
       "  'min_samples_leaf': '3',\n",
       "  'min_samples_split': '5',\n",
       "  'min_weight_fraction_leaf': '0.0',\n",
       "  'n_estimators': '28',\n",
       "  'n_jobs': 'None',\n",
       "  'oob_score': 'False',\n",
       "  'random_state': '42',\n",
       "  'verbose': '0',\n",
       "  'warm_start': 'False'}, tags={'estimator_class': 'sklearn.ensemble._forest.RandomForestRegressor',\n",
       "  'estimator_name': 'RandomForestRegressor',\n",
       "  'mlflow.log-model.history': '[{\"run_id\": \"53569c7d157342628366e6bcf29dedab\", '\n",
       "                              '\"artifact_path\": \"model\", \"utc_time_created\": '\n",
       "                              '\"2022-05-30 17:17:28.732794\", \"flavors\": '\n",
       "                              '{\"python_function\": {\"model_path\": \"model.pkl\", '\n",
       "                              '\"loader_module\": \"mlflow.sklearn\", '\n",
       "                              '\"python_version\": \"3.9.5\", \"env\": \"conda.yaml\"}, '\n",
       "                              '\"sklearn\": {\"pickled_model\": \"model.pkl\", '\n",
       "                              '\"sklearn_version\": \"1.1.1\", '\n",
       "                              '\"serialization_format\": \"cloudpickle\", \"code\": '\n",
       "                              'null}}, \"model_uuid\": '\n",
       "                              '\"6886c25661904b3e98235d3a488bb2c2\", '\n",
       "                              '\"mlflow_version\": \"1.26.1\", \"signature\": '\n",
       "                              '{\"inputs\": \"[{\\\\\"type\\\\\": \\\\\"tensor\\\\\", '\n",
       "                              '\\\\\"tensor-spec\\\\\": {\\\\\"dtype\\\\\": \\\\\"float64\\\\\", '\n",
       "                              '\\\\\"shape\\\\\": [-1, 13221]}}]\", \"outputs\": '\n",
       "                              '\"[{\\\\\"type\\\\\": \\\\\"tensor\\\\\", \\\\\"tensor-spec\\\\\": '\n",
       "                              '{\\\\\"dtype\\\\\": \\\\\"float64\\\\\", \\\\\"shape\\\\\": '\n",
       "                              '[-1]}}]\"}}]',\n",
       "  'mlflow.source.git.commit': 'cd2b4287446c539fe1b40e3544b76ade77e9d4fd',\n",
       "  'mlflow.source.name': './homework/register_model.py',\n",
       "  'mlflow.source.type': 'LOCAL',\n",
       "  'mlflow.user': 'abehsu'}>, info=<RunInfo: artifact_uri='./mlruns/4/53569c7d157342628366e6bcf29dedab/artifacts', end_time=1653931052304, experiment_id='4', lifecycle_stage='active', run_id='53569c7d157342628366e6bcf29dedab', run_uuid='53569c7d157342628366e6bcf29dedab', start_time=1653931037144, status='FINISHED', user_id='abehsu'>>]"
      ]
     },
     "execution_count": 30,
     "metadata": {},
     "output_type": "execute_result"
    }
   ],
   "source": [
    "best_run"
   ]
  },
  {
   "cell_type": "code",
   "execution_count": null,
   "metadata": {},
   "outputs": [],
   "source": [
    "from datetime import datetime\n",
    "date = \n",
    "model_version=2\n",
    "client.update_model_version(\n",
    "    name=model_name,\n",
    "    version=model_version,\n",
    "    description=f\"\"\n",
    ")"
   ]
  }
 ],
 "metadata": {
  "interpreter": {
   "hash": "ba31f8059878c518b629fc56b882670069bd913da84614090a714533e28c3446"
  },
  "kernelspec": {
   "display_name": "Python 3.9.5 ('mlops-zoomcamp-62aZbzDQ')",
   "language": "python",
   "name": "python3"
  },
  "language_info": {
   "codemirror_mode": {
    "name": "ipython",
    "version": 3
   },
   "file_extension": ".py",
   "mimetype": "text/x-python",
   "name": "python",
   "nbconvert_exporter": "python",
   "pygments_lexer": "ipython3",
   "version": "3.9.5"
  },
  "orig_nbformat": 4
 },
 "nbformat": 4,
 "nbformat_minor": 2
}
